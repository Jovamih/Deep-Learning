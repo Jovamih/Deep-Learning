{
 "cells": [
  {
   "cell_type": "code",
   "execution_count": 1,
   "id": "innovative-submission",
   "metadata": {},
   "outputs": [],
   "source": [
    "%matplotlib inline\n",
    "import pandas as pd\n",
    "import numpy as np\n",
    "import matplotlib.pyplot as plt \n",
    "import seaborn as sns; sns.set()"
   ]
  },
  {
   "cell_type": "markdown",
   "id": "regional-istanbul",
   "metadata": {},
   "source": [
    "## Fase: Obtencion de datos\n",
    "* Datos reales de los alumnos de la FISI-B18"
   ]
  },
  {
   "cell_type": "code",
   "execution_count": 2,
   "id": "familiar-shell",
   "metadata": {},
   "outputs": [],
   "source": [
    "data=pd.read_csv(r\"C:\\Users\\JOHAN\\Desktop\\2020-II\\HOJA_1_CALIFICACIONES.csv\",sep=\";\",index_col='No.')"
   ]
  },
  {
   "cell_type": "code",
   "execution_count": 3,
   "id": "antique-folder",
   "metadata": {},
   "outputs": [
    {
     "data": {
      "text/html": [
       "<div>\n",
       "<style scoped>\n",
       "    .dataframe tbody tr th:only-of-type {\n",
       "        vertical-align: middle;\n",
       "    }\n",
       "\n",
       "    .dataframe tbody tr th {\n",
       "        vertical-align: top;\n",
       "    }\n",
       "\n",
       "    .dataframe thead th {\n",
       "        text-align: right;\n",
       "    }\n",
       "</style>\n",
       "<table border=\"1\" class=\"dataframe\">\n",
       "  <thead>\n",
       "    <tr style=\"text-align: right;\">\n",
       "      <th></th>\n",
       "      <th>Codigo</th>\n",
       "      <th>Apellidos y Nobres</th>\n",
       "      <th>Escuela</th>\n",
       "      <th>Plan Estudio</th>\n",
       "      <th>Edad</th>\n",
       "      <th>Sexo</th>\n",
       "      <th>No.cur-rep</th>\n",
       "      <th>No.asig-mat</th>\n",
       "      <th>No.cred.Mat</th>\n",
       "      <th>Prom.pond</th>\n",
       "      <th>Cred.faltante</th>\n",
       "      <th>Total.Cred</th>\n",
       "      <th>Cred.Llevad</th>\n",
       "    </tr>\n",
       "    <tr>\n",
       "      <th>No.</th>\n",
       "      <th></th>\n",
       "      <th></th>\n",
       "      <th></th>\n",
       "      <th></th>\n",
       "      <th></th>\n",
       "      <th></th>\n",
       "      <th></th>\n",
       "      <th></th>\n",
       "      <th></th>\n",
       "      <th></th>\n",
       "      <th></th>\n",
       "      <th></th>\n",
       "      <th></th>\n",
       "    </tr>\n",
       "  </thead>\n",
       "  <tbody>\n",
       "    <tr>\n",
       "      <th>1</th>\n",
       "      <td>18200129</td>\n",
       "      <td>Acuña Anampa Britney Jennifer</td>\n",
       "      <td>Sistemas</td>\n",
       "      <td>2018</td>\n",
       "      <td>20</td>\n",
       "      <td>F</td>\n",
       "      <td>0</td>\n",
       "      <td>7</td>\n",
       "      <td>22</td>\n",
       "      <td>13.728</td>\n",
       "      <td>99</td>\n",
       "      <td>213</td>\n",
       "      <td>114</td>\n",
       "    </tr>\n",
       "    <tr>\n",
       "      <th>2</th>\n",
       "      <td>18200002</td>\n",
       "      <td>Alonso Varillas, Margorie Margarita</td>\n",
       "      <td>Sistemas</td>\n",
       "      <td>2018</td>\n",
       "      <td>21</td>\n",
       "      <td>F</td>\n",
       "      <td>2</td>\n",
       "      <td>7</td>\n",
       "      <td>22</td>\n",
       "      <td>14.211</td>\n",
       "      <td>99</td>\n",
       "      <td>213</td>\n",
       "      <td>114</td>\n",
       "    </tr>\n",
       "    <tr>\n",
       "      <th>3</th>\n",
       "      <td>18200055</td>\n",
       "      <td>Altamirano Alca Fernando</td>\n",
       "      <td>Sistemas</td>\n",
       "      <td>2018</td>\n",
       "      <td>20</td>\n",
       "      <td>M</td>\n",
       "      <td>0</td>\n",
       "      <td>7</td>\n",
       "      <td>22</td>\n",
       "      <td>14.904</td>\n",
       "      <td>99</td>\n",
       "      <td>213</td>\n",
       "      <td>114</td>\n",
       "    </tr>\n",
       "    <tr>\n",
       "      <th>4</th>\n",
       "      <td>18200057</td>\n",
       "      <td>Avila Velasquez Luis Enrique</td>\n",
       "      <td>Sistemas</td>\n",
       "      <td>2018</td>\n",
       "      <td>22</td>\n",
       "      <td>M</td>\n",
       "      <td>0</td>\n",
       "      <td>7</td>\n",
       "      <td>22</td>\n",
       "      <td>14.351</td>\n",
       "      <td>99</td>\n",
       "      <td>213</td>\n",
       "      <td>114</td>\n",
       "    </tr>\n",
       "    <tr>\n",
       "      <th>5</th>\n",
       "      <td>18200008</td>\n",
       "      <td>Cacho Leon, César Francisco</td>\n",
       "      <td>Sistemas</td>\n",
       "      <td>2018</td>\n",
       "      <td>19</td>\n",
       "      <td>M</td>\n",
       "      <td>3</td>\n",
       "      <td>7</td>\n",
       "      <td>22</td>\n",
       "      <td>12.435</td>\n",
       "      <td>102</td>\n",
       "      <td>213</td>\n",
       "      <td>111</td>\n",
       "    </tr>\n",
       "  </tbody>\n",
       "</table>\n",
       "</div>"
      ],
      "text/plain": [
       "       Codigo                   Apellidos y Nobres   Escuela  Plan Estudio  \\\n",
       "No.                                                                          \n",
       "1    18200129        Acuña Anampa Britney Jennifer  Sistemas          2018   \n",
       "2    18200002  Alonso Varillas, Margorie Margarita  Sistemas          2018   \n",
       "3    18200055             Altamirano Alca Fernando  Sistemas          2018   \n",
       "4    18200057         Avila Velasquez Luis Enrique  Sistemas          2018   \n",
       "5    18200008          Cacho Leon, César Francisco  Sistemas          2018   \n",
       "\n",
       "     Edad Sexo  No.cur-rep  No.asig-mat  No.cred.Mat  Prom.pond  \\\n",
       "No.                                                               \n",
       "1      20    F           0            7           22     13.728   \n",
       "2      21    F           2            7           22     14.211   \n",
       "3      20    M           0            7           22     14.904   \n",
       "4      22    M           0            7           22     14.351   \n",
       "5      19    M           3            7           22     12.435   \n",
       "\n",
       "     Cred.faltante  Total.Cred  Cred.Llevad  \n",
       "No.                                          \n",
       "1               99         213          114  \n",
       "2               99         213          114  \n",
       "3               99         213          114  \n",
       "4               99         213          114  \n",
       "5              102         213          111  "
      ]
     },
     "execution_count": 3,
     "metadata": {},
     "output_type": "execute_result"
    }
   ],
   "source": [
    "data.head()"
   ]
  },
  {
   "cell_type": "markdown",
   "id": "complimentary-wireless",
   "metadata": {},
   "source": [
    "## Fase 2: Exploracion de datos\n",
    "* Observar el tipo de variables de las que estan compuestas\n",
    "* Detectar la presencia de caracteristicas categoricas\n",
    "* Detectar la distribucion de variables continuas\n",
    "* Detectar valores faltantes\n",
    "* Detectar valores atipicos y duplicados"
   ]
  },
  {
   "cell_type": "code",
   "execution_count": 4,
   "id": "physical-longitude",
   "metadata": {},
   "outputs": [
    {
     "name": "stdout",
     "output_type": "stream",
     "text": [
      "<class 'pandas.core.frame.DataFrame'>\n",
      "Int64Index: 40 entries, 1 to 40\n",
      "Data columns (total 13 columns):\n",
      " #   Column              Non-Null Count  Dtype  \n",
      "---  ------              --------------  -----  \n",
      " 0   Codigo              40 non-null     int64  \n",
      " 1   Apellidos y Nobres  40 non-null     object \n",
      " 2   Escuela             40 non-null     object \n",
      " 3   Plan Estudio        40 non-null     int64  \n",
      " 4   Edad                40 non-null     int64  \n",
      " 5   Sexo                40 non-null     object \n",
      " 6   No.cur-rep          40 non-null     int64  \n",
      " 7   No.asig-mat         40 non-null     int64  \n",
      " 8   No.cred.Mat         40 non-null     int64  \n",
      " 9   Prom.pond           40 non-null     float64\n",
      " 10  Cred.faltante       40 non-null     int64  \n",
      " 11  Total.Cred          40 non-null     int64  \n",
      " 12  Cred.Llevad         40 non-null     int64  \n",
      "dtypes: float64(1), int64(9), object(3)\n",
      "memory usage: 4.4+ KB\n"
     ]
    }
   ],
   "source": [
    "#observar la informacion del dataset\n",
    "data.info()"
   ]
  },
  {
   "cell_type": "code",
   "execution_count": 5,
   "id": "multiple-grill",
   "metadata": {},
   "outputs": [
    {
     "data": {
      "text/plain": [
       "Codigo                0\n",
       "Apellidos y Nobres    0\n",
       "Escuela               0\n",
       "Plan Estudio          0\n",
       "Edad                  0\n",
       "Sexo                  0\n",
       "No.cur-rep            0\n",
       "No.asig-mat           0\n",
       "No.cred.Mat           0\n",
       "Prom.pond             0\n",
       "Cred.faltante         0\n",
       "Total.Cred            0\n",
       "Cred.Llevad           0\n",
       "dtype: int64"
      ]
     },
     "execution_count": 5,
     "metadata": {},
     "output_type": "execute_result"
    }
   ],
   "source": [
    "#observamos los valores faltantes\n",
    "data.isnull().sum()"
   ]
  },
  {
   "cell_type": "code",
   "execution_count": 6,
   "id": "duplicate-single",
   "metadata": {},
   "outputs": [],
   "source": [
    "#detectar que columnas tienes valores continuos\n",
    "columnas_continuas=[col for col in data.columns if data[col].dtype in ('int64','float64')]\n",
    "columnas_texto= [col for col in data.columns if data[col].dtype =='object']"
   ]
  },
  {
   "cell_type": "code",
   "execution_count": 7,
   "id": "hired-latino",
   "metadata": {},
   "outputs": [
    {
     "name": "stdout",
     "output_type": "stream",
     "text": [
      "Columnas con valores continuos\n",
      "Codigo\n",
      "Plan Estudio\n",
      "Edad\n",
      "No.cur-rep\n",
      "No.asig-mat\n",
      "No.cred.Mat\n",
      "Prom.pond\n",
      "Cred.faltante\n",
      "Total.Cred\n",
      "Cred.Llevad\n"
     ]
    }
   ],
   "source": [
    "print(\"Columnas con valores continuos\")\n",
    "print(\"\\n\".join(columnas_continuas))"
   ]
  },
  {
   "cell_type": "code",
   "execution_count": 8,
   "id": "still-shanghai",
   "metadata": {},
   "outputs": [
    {
     "name": "stdout",
     "output_type": "stream",
     "text": [
      "Columnas con valores de texto\n",
      "Apellidos y Nobres\n",
      "Escuela\n",
      "Sexo\n"
     ]
    }
   ],
   "source": [
    "print(\"Columnas con valores de texto\")\n",
    "print(\"\\n\".join(columnas_texto))"
   ]
  },
  {
   "cell_type": "code",
   "execution_count": 9,
   "id": "metropolitan-screening",
   "metadata": {},
   "outputs": [
    {
     "data": {
      "image/png": "[encoded data removed]",
      "text/plain": [
       "<Figure size 360x360 with 1 Axes>"
      ]
     },
     "metadata": {},
     "output_type": "display_data"
    },
    {
     "name": "stderr",
     "output_type": "stream",
     "text": [
      "C:\\Users\\JOHAN\\anaconda3\\envs\\mlearning\\lib\\site-packages\\seaborn\\distributions.py:305: UserWarning: Dataset has 0 variance; skipping density estimate.\n",
      "  warnings.warn(msg, UserWarning)\n"
     ]
    },
    {
     "data": {
      "image/png": "[encoded data removed]",
      "text/plain": [
       "<Figure size 360x360 with 1 Axes>"
      ]
     },
     "metadata": {},
     "output_type": "display_data"
    },
    {
     "data": {
      "image/png": "[encoded data removed]",
      "text/plain": [
       "<Figure size 360x360 with 1 Axes>"
      ]
     },
     "metadata": {},
     "output_type": "display_data"
    },
    {
     "data": {
      "image/png": "[encoded data removed]",
      "text/plain": [
       "<Figure size 360x360 with 1 Axes>"
      ]
     },
     "metadata": {},
     "output_type": "display_data"
    },
    {
     "data": {
      "image/png": "[encoded data removed]",
      "text/plain": [
       "<Figure size 360x360 with 1 Axes>"
      ]
     },
     "metadata": {},
     "output_type": "display_data"
    },
    {
     "data": {
      "image/png": "[encoded data removed]",
      "text/plain": [
       "<Figure size 360x360 with 1 Axes>"
      ]
     },
     "metadata": {},
     "output_type": "display_data"
    },
    {
     "data": {
      "image/png": "[encoded data removed]",
      "text/plain": [
       "<Figure size 360x360 with 1 Axes>"
      ]
     },
     "metadata": {},
     "output_type": "display_data"
    },
    {
     "data": {
      "image/png": "[encoded data removed]",
      "text/plain": [
       "<Figure size 360x360 with 1 Axes>"
      ]
     },
     "metadata": {},
     "output_type": "display_data"
    },
    {
     "name": "stderr",
     "output_type": "stream",
     "text": [
      "C:\\Users\\JOHAN\\anaconda3\\envs\\mlearning\\lib\\site-packages\\seaborn\\distributions.py:305: UserWarning: Dataset has 0 variance; skipping density estimate.\n",
      "  warnings.warn(msg, UserWarning)\n"
     ]
    },
    {
     "data": {
      "image/png": "[encoded data removed]",
      "text/plain": [
       "<Figure size 360x360 with 1 Axes>"
      ]
     },
     "metadata": {},
     "output_type": "display_data"
    },
    {
     "data": {
      "image/png": "[encoded data removed]",
      "text/plain": [
       "<Figure size 360x360 with 1 Axes>"
      ]
     },
     "metadata": {},
     "output_type": "display_data"
    }
   ],
   "source": [
    "for col in columnas_continuas:\n",
    "    sns.displot(data[col],kde=True)\n",
    "    plt.show()"
   ]
  },
  {
   "cell_type": "code",
   "execution_count": 10,
   "id": "completed-wound",
   "metadata": {},
   "outputs": [
    {
     "data": {
      "text/plain": [
       "<seaborn.axisgrid.FacetGrid at 0x2003b7eedc8>"
      ]
     },
     "execution_count": 10,
     "metadata": {},
     "output_type": "execute_result"
    },
    {
     "data": {
      "image/png": "[encoded data removed]",
      "text/plain": [
       "<Figure size 360x360 with 1 Axes>"
      ]
     },
     "metadata": {},
     "output_type": "display_data"
    }
   ],
   "source": [
    "sns.displot(data['Prom.pond'],kde=True)"
   ]
  },
  {
   "cell_type": "code",
   "execution_count": 11,
   "id": "located-borough",
   "metadata": {},
   "outputs": [
    {
     "data": {
      "text/plain": [
       "<seaborn.axisgrid.FacetGrid at 0x20051052848>"
      ]
     },
     "execution_count": 11,
     "metadata": {},
     "output_type": "execute_result"
    },
    {
     "data": {
      "image/png": "[encoded data removed]",
      "text/plain": [
       "<Figure size 360x360 with 1 Axes>"
      ]
     },
     "metadata": {},
     "output_type": "display_data"
    }
   ],
   "source": [
    "sns.displot(data['No.cred.Mat'],kde=True)"
   ]
  },
  {
   "cell_type": "code",
   "execution_count": 12,
   "id": "laughing-blind",
   "metadata": {},
   "outputs": [
    {
     "name": "stdout",
     "output_type": "stream",
     "text": [
      "-----------Apellidos y Nobres-------------\n",
      "Sánchez Muñoz, José Anderson                 1\n",
      "De La Cruz Guerra, Franklin Alonso           1\n",
      "Alonso Varillas, Margorie Margarita          1\n",
      "Cacho Leon, César Francisco                  1\n",
      "Fernández Palomino, Dair Anthony             1\n",
      "Tonconi Laura Daniel William                 1\n",
      "Avila Velasquez Luis Enrique                 1\n",
      "Céspedes Francia, Gianfranco Moisés          1\n",
      "Collantes Tito, Miguel Angel                 1\n",
      "Motta Kobayashi Gabriela Estrella            1\n",
      "Solier Cosser, Ericka Anabel                 1\n",
      "Gonzales Aburto Ricardo Daniel               1\n",
      "Zapata Barreto Daniel Santos                 1\n",
      "Torres Meza, Alejandro Sebastian             1\n",
      "Castillo Cornejo, Jeffrey Bryan              1\n",
      "Torres Ortega, Joaquin Joseph                1\n",
      "Valenzuela Segovia Luis Alejandro Gabriel    1\n",
      "Toribio Barrueta, Miguel Alexis              1\n",
      "Cuadros Carrasco Jesus Alfonso               1\n",
      "Huaysara Jauregui Alvaro                     1\n",
      "Vera Leon, Bryan Alexander                   1\n",
      "Pajuelo Leon Jean Paul Fabian                1\n",
      "Altamirano Alca Fernando                     1\n",
      "Urpay Sulca Luis Angel                       1\n",
      "Vilca Huillcaya José Miguel                  1\n",
      "Saldaña Garcia, Cristhian Erick              1\n",
      "Socualaya Ruiz, Diego Carlos                 1\n",
      "Quesada Azaña Alvaro Miguel                  1\n",
      "Mitma Huaccha, Johan valerio                 1\n",
      "Yagui López, Carlos Hiroshi                  1\n",
      "Osorio Uribe, Eduardo Franco                 1\n",
      "Mamani Taiña Luis Alonso                     1\n",
      "Porras Muñoz Bruno Francheso                 1\n",
      "Saavedra Castillo, Alex Sebastian            1\n",
      "Guerrero Mucha, Gianny Piero                 1\n",
      "Acuña Anampa Britney Jennifer                1\n",
      "Chipana Calderon, Renzo Jorge                1\n",
      "Valenzuela Martinez Alessandro Gregory       1\n",
      "Huancahuire Velasquez Eddie Jamil            1\n",
      "Ricra Tello, Alexander Junior                1\n",
      "Name: Apellidos y Nobres, dtype: int64\n",
      "-----------Escuela-------------\n",
      "Sistemas    40\n",
      "Name: Escuela, dtype: int64\n",
      "-----------Sexo-------------\n",
      "M    36\n",
      "F     4\n",
      "Name: Sexo, dtype: int64\n"
     ]
    }
   ],
   "source": [
    "for col in columnas_texto:\n",
    "    serie=data[col].value_counts()\n",
    "    print(\"-----------{0}-------------\".format(col))\n",
    "    print(serie)"
   ]
  },
  {
   "cell_type": "code",
   "execution_count": 13,
   "id": "blind-dinner",
   "metadata": {},
   "outputs": [
    {
     "data": {
      "text/plain": [
       "<function pandas.core.algorithms.value_counts(values, sort: 'bool' = True, ascending: 'bool' = False, normalize: 'bool' = False, bins=None, dropna: 'bool' = True) -> 'Series'>"
      ]
     },
     "execution_count": 13,
     "metadata": {},
     "output_type": "execute_result"
    }
   ],
   "source": [
    "pd.value_counts"
   ]
  },
  {
   "cell_type": "code",
   "execution_count": 14,
   "id": "acoustic-workstation",
   "metadata": {},
   "outputs": [
    {
     "data": {
      "text/html": [
       "<div>\n",
       "<style scoped>\n",
       "    .dataframe tbody tr th:only-of-type {\n",
       "        vertical-align: middle;\n",
       "    }\n",
       "\n",
       "    .dataframe tbody tr th {\n",
       "        vertical-align: top;\n",
       "    }\n",
       "\n",
       "    .dataframe thead th {\n",
       "        text-align: right;\n",
       "    }\n",
       "</style>\n",
       "<table border=\"1\" class=\"dataframe\">\n",
       "  <thead>\n",
       "    <tr style=\"text-align: right;\">\n",
       "      <th></th>\n",
       "      <th>Codigo</th>\n",
       "      <th>Apellidos y Nobres</th>\n",
       "      <th>Escuela</th>\n",
       "      <th>Plan Estudio</th>\n",
       "      <th>Edad</th>\n",
       "      <th>Sexo</th>\n",
       "      <th>No.cur-rep</th>\n",
       "      <th>No.asig-mat</th>\n",
       "      <th>No.cred.Mat</th>\n",
       "      <th>Prom.pond</th>\n",
       "      <th>Cred.faltante</th>\n",
       "      <th>Total.Cred</th>\n",
       "      <th>Cred.Llevad</th>\n",
       "    </tr>\n",
       "    <tr>\n",
       "      <th>No.</th>\n",
       "      <th></th>\n",
       "      <th></th>\n",
       "      <th></th>\n",
       "      <th></th>\n",
       "      <th></th>\n",
       "      <th></th>\n",
       "      <th></th>\n",
       "      <th></th>\n",
       "      <th></th>\n",
       "      <th></th>\n",
       "      <th></th>\n",
       "      <th></th>\n",
       "      <th></th>\n",
       "    </tr>\n",
       "  </thead>\n",
       "  <tbody>\n",
       "  </tbody>\n",
       "</table>\n",
       "</div>"
      ],
      "text/plain": [
       "Empty DataFrame\n",
       "Columns: [Codigo, Apellidos y Nobres, Escuela, Plan Estudio, Edad, Sexo, No.cur-rep, No.asig-mat, No.cred.Mat, Prom.pond, Cred.faltante, Total.Cred, Cred.Llevad]\n",
       "Index: []"
      ]
     },
     "execution_count": 14,
     "metadata": {},
     "output_type": "execute_result"
    }
   ],
   "source": [
    "data[data.duplicated()]"
   ]
  },
  {
   "cell_type": "code",
   "execution_count": 15,
   "id": "scenic-disney",
   "metadata": {},
   "outputs": [],
   "source": [
    "corr=data[columnas_continuas].corr(method='pearson')"
   ]
  },
  {
   "cell_type": "code",
   "execution_count": 16,
   "id": "abroad-apparel",
   "metadata": {},
   "outputs": [
    {
     "data": {
      "text/plain": [
       "<AxesSubplot:>"
      ]
     },
     "execution_count": 16,
     "metadata": {},
     "output_type": "execute_result"
    },
    {
     "data": {
      "image/png": "[encoded data removed]",
      "text/plain": [
       "<Figure size 432x288 with 2 Axes>"
      ]
     },
     "metadata": {},
     "output_type": "display_data"
    }
   ],
   "source": [
    "sns.heatmap(corr,fmt='0.2f',square=True)"
   ]
  },
  {
   "cell_type": "markdown",
   "id": "cubic-asthma",
   "metadata": {},
   "source": [
    "## Preparacion de datos"
   ]
  },
  {
   "cell_type": "code",
   "execution_count": 17,
   "id": "laughing-fellowship",
   "metadata": {},
   "outputs": [],
   "source": [
    "#codificamos las columna de Sexo\n",
    "from sklearn.preprocessing import LabelEncoder\n",
    "\n",
    "encoder=LabelEncoder()\n",
    "data['Sexo']=encoder.fit_transform(data['Sexo'])"
   ]
  },
  {
   "cell_type": "code",
   "execution_count": 18,
   "id": "nearby-disney",
   "metadata": {},
   "outputs": [
    {
     "data": {
      "text/plain": [
       "array(['F', 'M'], dtype=object)"
      ]
     },
     "execution_count": 18,
     "metadata": {},
     "output_type": "execute_result"
    }
   ],
   "source": [
    "encoder.classes_"
   ]
  },
  {
   "cell_type": "code",
   "execution_count": 19,
   "id": "august-windows",
   "metadata": {},
   "outputs": [
    {
     "data": {
      "text/html": [
       "<div>\n",
       "<style scoped>\n",
       "    .dataframe tbody tr th:only-of-type {\n",
       "        vertical-align: middle;\n",
       "    }\n",
       "\n",
       "    .dataframe tbody tr th {\n",
       "        vertical-align: top;\n",
       "    }\n",
       "\n",
       "    .dataframe thead th {\n",
       "        text-align: right;\n",
       "    }\n",
       "</style>\n",
       "<table border=\"1\" class=\"dataframe\">\n",
       "  <thead>\n",
       "    <tr style=\"text-align: right;\">\n",
       "      <th></th>\n",
       "      <th>Codigo</th>\n",
       "      <th>Apellidos y Nobres</th>\n",
       "      <th>Escuela</th>\n",
       "      <th>Plan Estudio</th>\n",
       "      <th>Edad</th>\n",
       "      <th>Sexo</th>\n",
       "      <th>No.cur-rep</th>\n",
       "      <th>No.asig-mat</th>\n",
       "      <th>No.cred.Mat</th>\n",
       "      <th>Prom.pond</th>\n",
       "      <th>Cred.faltante</th>\n",
       "      <th>Total.Cred</th>\n",
       "      <th>Cred.Llevad</th>\n",
       "    </tr>\n",
       "    <tr>\n",
       "      <th>No.</th>\n",
       "      <th></th>\n",
       "      <th></th>\n",
       "      <th></th>\n",
       "      <th></th>\n",
       "      <th></th>\n",
       "      <th></th>\n",
       "      <th></th>\n",
       "      <th></th>\n",
       "      <th></th>\n",
       "      <th></th>\n",
       "      <th></th>\n",
       "      <th></th>\n",
       "      <th></th>\n",
       "    </tr>\n",
       "  </thead>\n",
       "  <tbody>\n",
       "    <tr>\n",
       "      <th>1</th>\n",
       "      <td>18200129</td>\n",
       "      <td>Acuña Anampa Britney Jennifer</td>\n",
       "      <td>Sistemas</td>\n",
       "      <td>2018</td>\n",
       "      <td>20</td>\n",
       "      <td>0</td>\n",
       "      <td>0</td>\n",
       "      <td>7</td>\n",
       "      <td>22</td>\n",
       "      <td>13.728</td>\n",
       "      <td>99</td>\n",
       "      <td>213</td>\n",
       "      <td>114</td>\n",
       "    </tr>\n",
       "    <tr>\n",
       "      <th>2</th>\n",
       "      <td>18200002</td>\n",
       "      <td>Alonso Varillas, Margorie Margarita</td>\n",
       "      <td>Sistemas</td>\n",
       "      <td>2018</td>\n",
       "      <td>21</td>\n",
       "      <td>0</td>\n",
       "      <td>2</td>\n",
       "      <td>7</td>\n",
       "      <td>22</td>\n",
       "      <td>14.211</td>\n",
       "      <td>99</td>\n",
       "      <td>213</td>\n",
       "      <td>114</td>\n",
       "    </tr>\n",
       "  </tbody>\n",
       "</table>\n",
       "</div>"
      ],
      "text/plain": [
       "       Codigo                   Apellidos y Nobres   Escuela  Plan Estudio  \\\n",
       "No.                                                                          \n",
       "1    18200129        Acuña Anampa Britney Jennifer  Sistemas          2018   \n",
       "2    18200002  Alonso Varillas, Margorie Margarita  Sistemas          2018   \n",
       "\n",
       "     Edad  Sexo  No.cur-rep  No.asig-mat  No.cred.Mat  Prom.pond  \\\n",
       "No.                                                                \n",
       "1      20     0           0            7           22     13.728   \n",
       "2      21     0           2            7           22     14.211   \n",
       "\n",
       "     Cred.faltante  Total.Cred  Cred.Llevad  \n",
       "No.                                          \n",
       "1               99         213          114  \n",
       "2               99         213          114  "
      ]
     },
     "execution_count": 19,
     "metadata": {},
     "output_type": "execute_result"
    }
   ],
   "source": [
    "data.head(2)"
   ]
  },
  {
   "cell_type": "code",
   "execution_count": 20,
   "id": "early-potential",
   "metadata": {},
   "outputs": [],
   "source": [
    "#eliminamos la columna codigo, nombres y escuela\n",
    "data_filter=data.drop(['Codigo','Apellidos y Nobres','Plan Estudio','Escuela'],axis=1)"
   ]
  },
  {
   "cell_type": "code",
   "execution_count": 21,
   "id": "ongoing-defense",
   "metadata": {},
   "outputs": [
    {
     "data": {
      "text/html": [
       "<div>\n",
       "<style scoped>\n",
       "    .dataframe tbody tr th:only-of-type {\n",
       "        vertical-align: middle;\n",
       "    }\n",
       "\n",
       "    .dataframe tbody tr th {\n",
       "        vertical-align: top;\n",
       "    }\n",
       "\n",
       "    .dataframe thead th {\n",
       "        text-align: right;\n",
       "    }\n",
       "</style>\n",
       "<table border=\"1\" class=\"dataframe\">\n",
       "  <thead>\n",
       "    <tr style=\"text-align: right;\">\n",
       "      <th></th>\n",
       "      <th>Edad</th>\n",
       "      <th>Sexo</th>\n",
       "      <th>No.cur-rep</th>\n",
       "      <th>No.asig-mat</th>\n",
       "      <th>No.cred.Mat</th>\n",
       "      <th>Prom.pond</th>\n",
       "      <th>Cred.faltante</th>\n",
       "      <th>Total.Cred</th>\n",
       "      <th>Cred.Llevad</th>\n",
       "    </tr>\n",
       "    <tr>\n",
       "      <th>No.</th>\n",
       "      <th></th>\n",
       "      <th></th>\n",
       "      <th></th>\n",
       "      <th></th>\n",
       "      <th></th>\n",
       "      <th></th>\n",
       "      <th></th>\n",
       "      <th></th>\n",
       "      <th></th>\n",
       "    </tr>\n",
       "  </thead>\n",
       "  <tbody>\n",
       "    <tr>\n",
       "      <th>1</th>\n",
       "      <td>20</td>\n",
       "      <td>0</td>\n",
       "      <td>0</td>\n",
       "      <td>7</td>\n",
       "      <td>22</td>\n",
       "      <td>13.728</td>\n",
       "      <td>99</td>\n",
       "      <td>213</td>\n",
       "      <td>114</td>\n",
       "    </tr>\n",
       "    <tr>\n",
       "      <th>2</th>\n",
       "      <td>21</td>\n",
       "      <td>0</td>\n",
       "      <td>2</td>\n",
       "      <td>7</td>\n",
       "      <td>22</td>\n",
       "      <td>14.211</td>\n",
       "      <td>99</td>\n",
       "      <td>213</td>\n",
       "      <td>114</td>\n",
       "    </tr>\n",
       "  </tbody>\n",
       "</table>\n",
       "</div>"
      ],
      "text/plain": [
       "     Edad  Sexo  No.cur-rep  No.asig-mat  No.cred.Mat  Prom.pond  \\\n",
       "No.                                                                \n",
       "1      20     0           0            7           22     13.728   \n",
       "2      21     0           2            7           22     14.211   \n",
       "\n",
       "     Cred.faltante  Total.Cred  Cred.Llevad  \n",
       "No.                                          \n",
       "1               99         213          114  \n",
       "2               99         213          114  "
      ]
     },
     "execution_count": 21,
     "metadata": {},
     "output_type": "execute_result"
    }
   ],
   "source": [
    "data_filter.head(2)"
   ]
  },
  {
   "cell_type": "code",
   "execution_count": 22,
   "id": "standard-miracle",
   "metadata": {},
   "outputs": [
    {
     "data": {
      "text/plain": [
       "array([2018], dtype=int64)"
      ]
     },
     "execution_count": 22,
     "metadata": {},
     "output_type": "execute_result"
    }
   ],
   "source": [
    "np.unique(data['Plan Estudio'])"
   ]
  },
  {
   "cell_type": "code",
   "execution_count": 23,
   "id": "rocky-merit",
   "metadata": {},
   "outputs": [],
   "source": [
    "#separamos las variables objetivos de las demas columnas\n",
    "X=data_filter.drop('Prom.pond',axis=1).values\n",
    "y=data_filter['Prom.pond'].values\n",
    "#procedemos a dividor los datos en sets de entrenamiento y validacion\n",
    "from sklearn.model_selection import train_test_split\n",
    "x_train,x_test,y_train,y_test=train_test_split(X,y,test_size=0.3,random_state=42,shuffle=True)"
   ]
  },
  {
   "cell_type": "code",
   "execution_count": 24,
   "id": "clear-smooth",
   "metadata": {},
   "outputs": [],
   "source": [
    "#Escalamos los datos\n",
    "from sklearn.preprocessing import MinMaxScaler\n",
    "scaler=MinMaxScaler(feature_range=(0,1))"
   ]
  },
  {
   "cell_type": "code",
   "execution_count": 25,
   "id": "quiet-manhattan",
   "metadata": {},
   "outputs": [],
   "source": [
    "scaler.fit(x_train);\n",
    "x_train=scaler.transform(x_train)\n",
    "x_test=scaler.transform(x_test)"
   ]
  },
  {
   "cell_type": "code",
   "execution_count": 26,
   "id": "frequent-indian",
   "metadata": {},
   "outputs": [
    {
     "data": {
      "text/plain": [
       "array([[0.4       , 1.        , 0.25      , 0.66666667, 0.7       ,\n",
       "        0.        , 0.        , 1.        ],\n",
       "       [0.4       , 1.        , 0.        , 0.66666667, 0.7       ,\n",
       "        0.        , 0.        , 1.        ],\n",
       "       [0.2       , 1.        , 1.        , 0.66666667, 0.2       ,\n",
       "        0.2       , 0.        , 0.8       ],\n",
       "       [0.4       , 1.        , 0.        , 0.66666667, 0.7       ,\n",
       "        0.        , 0.        , 1.        ],\n",
       "       [0.2       , 1.        , 0.        , 0.66666667, 0.7       ,\n",
       "        0.        , 0.        , 1.        ]])"
      ]
     },
     "execution_count": 26,
     "metadata": {},
     "output_type": "execute_result"
    }
   ],
   "source": [
    "x_train[:5]"
   ]
  },
  {
   "cell_type": "markdown",
   "id": "daily-fitness",
   "metadata": {},
   "source": [
    "## Seleccion del modelo"
   ]
  },
  {
   "cell_type": "code",
   "execution_count": 27,
   "id": "wired-penguin",
   "metadata": {},
   "outputs": [],
   "source": [
    "from sklearn.ensemble import RandomForestRegressor"
   ]
  },
  {
   "cell_type": "code",
   "execution_count": 28,
   "id": "exempt-underwear",
   "metadata": {},
   "outputs": [],
   "source": [
    "forest=RandomForestRegressor(n_estimators=500,max_depth=10)"
   ]
  },
  {
   "cell_type": "code",
   "execution_count": 29,
   "id": "imposed-turkish",
   "metadata": {},
   "outputs": [
    {
     "data": {
      "text/plain": [
       "RandomForestRegressor(max_depth=10, n_estimators=500)"
      ]
     },
     "execution_count": 29,
     "metadata": {},
     "output_type": "execute_result"
    }
   ],
   "source": [
    "forest.fit(x_train,y_train)"
   ]
  },
  {
   "cell_type": "code",
   "execution_count": 30,
   "id": "boring-offense",
   "metadata": {},
   "outputs": [
    {
     "data": {
      "text/plain": [
       "-5532234.51017816"
      ]
     },
     "execution_count": 30,
     "metadata": {},
     "output_type": "execute_result"
    }
   ],
   "source": [
    "forest.score(x_test,y_test)"
   ]
  },
  {
   "cell_type": "code",
   "execution_count": 31,
   "id": "promotional-thermal",
   "metadata": {},
   "outputs": [],
   "source": [
    "y_pred=forest.predict(x_test)"
   ]
  },
  {
   "cell_type": "code",
   "execution_count": 32,
   "id": "forbidden-australian",
   "metadata": {},
   "outputs": [
    {
     "data": {
      "text/plain": [
       "array([  13.70488117,   13.70488117, 3895.29331734,   48.15716818,\n",
       "         13.56739818,  184.77106263,   13.92167817,   13.8533    ,\n",
       "         48.30216029,   48.28765979,   13.5649629 , 3895.29331734])"
      ]
     },
     "execution_count": 32,
     "metadata": {},
     "output_type": "execute_result"
    }
   ],
   "source": [
    "y_pred"
   ]
  },
  {
   "cell_type": "code",
   "execution_count": 35,
   "id": "stuck-short",
   "metadata": {},
   "outputs": [
    {
     "data": {
      "text/plain": [
       "array([13.645, 13.125, 15.061, 14.211, 12.435, 13.45 , 13.417, 13.8  ,\n",
       "       13.974, 14.719, 13.422, 14.061])"
      ]
     },
     "execution_count": 35,
     "metadata": {},
     "output_type": "execute_result"
    }
   ],
   "source": [
    "y_test"
   ]
  },
  {
   "cell_type": "code",
   "execution_count": 43,
   "id": "worse-hurricane",
   "metadata": {},
   "outputs": [],
   "source": [
    "#ahora comparamos los resultados obtenidos delas predicciones\n",
    "def plot_compare(y_origin,y_after):\n",
    "    n_datos=range(1,len(y_origin)+1)\n",
    "    plt.plot(n_datos,y_origin,'bo-',label='Ytest')\n",
    "    plt.plot(n_datos,y_after,'ro-',label='Ypred')\n",
    "    plt.xlabel(\"Numero datos de prueba\")\n",
    "    plt.ylabel(\"Promedios ponderados\")\n",
    "    plt.legend(loc='best')\n",
    "    plt.grid(True)\n",
    "    plt.show()"
   ]
  },
  {
   "cell_type": "code",
   "execution_count": 44,
   "id": "prospective-fellow",
   "metadata": {},
   "outputs": [
    {
     "data": {
      "image/png": "[encoded data removed]",
      "text/plain": [
       "<Figure size 432x288 with 1 Axes>"
      ]
     },
     "metadata": {},
     "output_type": "display_data"
    }
   ],
   "source": [
    "plot_compare(y_test,y_pred)"
   ]
  },
  {
   "cell_type": "code",
   "execution_count": 45,
   "id": "angry-pledge",
   "metadata": {},
   "outputs": [
    {
     "data": {
      "text/plain": [
       "['modelo_regression_estimarPonderado.pkl']"
      ]
     },
     "execution_count": 45,
     "metadata": {},
     "output_type": "execute_result"
    }
   ],
   "source": [
    "import joblib\n",
    "\n",
    "joblib.dump(forest,\"modelo_regression_estimarPonderado.pkl\")"
   ]
  },
  {
   "cell_type": "code",
   "execution_count": 42,
   "id": "brown-seafood",
   "metadata": {},
   "outputs": [
    {
     "data": {
      "text/plain": [
       "12"
      ]
     },
     "execution_count": 42,
     "metadata": {},
     "output_type": "execute_result"
    }
   ],
   "source": [
    "len(y_pred)"
   ]
  },
  {
   "cell_type": "code",
   "execution_count": null,
   "id": "motivated-values",
   "metadata": {},
   "outputs": [],
   "source": []
  }
 ],
 "metadata": {
  "kernelspec": {
   "display_name": "Python 3",
   "language": "python",
   "name": "python3"
  },
  "language_info": {
   "codemirror_mode": {
    "name": "ipython",
    "version": 3
   },
   "file_extension": ".py",
   "mimetype": "text/x-python",
   "name": "python",
   "nbconvert_exporter": "python",
   "pygments_lexer": "ipython3",
   "version": "3.7.9"
  }
 },
 "nbformat": 4,
 "nbformat_minor": 5
}
