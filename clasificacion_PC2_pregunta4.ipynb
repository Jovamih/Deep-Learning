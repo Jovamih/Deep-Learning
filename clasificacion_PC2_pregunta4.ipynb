{
 "cells": [
  {
   "cell_type": "code",
   "execution_count": 1,
   "id": "dangerous-array",
   "metadata": {},
   "outputs": [],
   "source": [
    "%matplotlib inline\n",
    "import matplotlib.pyplot as plt\n",
    "import pandas as pd\n",
    "import numpy as np\n",
    "import seaborn as sns; sns.set()\n"
   ]
  },
  {
   "cell_type": "code",
   "execution_count": 2,
   "id": "changing-marble",
   "metadata": {},
   "outputs": [],
   "source": [
    "data=pd.read_csv(r\"C:\\Users\\JOHAN\\Desktop\\2020-II\\PC2_HOJA_REPITENCIAS.csv\",sep=\";\",index_col='No.')"
   ]
  },
  {
   "cell_type": "code",
   "execution_count": 131,
   "id": "weighted-surveillance",
   "metadata": {},
   "outputs": [
    {
     "data": {
      "text/html": [
       "<div>\n",
       "<style scoped>\n",
       "    .dataframe tbody tr th:only-of-type {\n",
       "        vertical-align: middle;\n",
       "    }\n",
       "\n",
       "    .dataframe tbody tr th {\n",
       "        vertical-align: top;\n",
       "    }\n",
       "\n",
       "    .dataframe thead th {\n",
       "        text-align: right;\n",
       "    }\n",
       "</style>\n",
       "<table border=\"1\" class=\"dataframe\">\n",
       "  <thead>\n",
       "    <tr style=\"text-align: right;\">\n",
       "      <th></th>\n",
       "      <th>Codigo</th>\n",
       "      <th>Apellidos y Nobres</th>\n",
       "      <th>Cursos_repitencia</th>\n",
       "      <th>Sem.pert</th>\n",
       "      <th>1R</th>\n",
       "      <th>2R</th>\n",
       "      <th>3R</th>\n",
       "      <th>4R</th>\n",
       "      <th>Otros</th>\n",
       "      <th>Repitencia</th>\n",
       "    </tr>\n",
       "    <tr>\n",
       "      <th>No.</th>\n",
       "      <th></th>\n",
       "      <th></th>\n",
       "      <th></th>\n",
       "      <th></th>\n",
       "      <th></th>\n",
       "      <th></th>\n",
       "      <th></th>\n",
       "      <th></th>\n",
       "      <th></th>\n",
       "      <th></th>\n",
       "    </tr>\n",
       "  </thead>\n",
       "  <tbody>\n",
       "    <tr>\n",
       "      <th>1</th>\n",
       "      <td>18200205</td>\n",
       "      <td>Valenzuela Martinez Alessandro Gregory</td>\n",
       "      <td>PROGRAMACIÓN Y FUNDAMENTOS DE ALGORÍTMICA</td>\n",
       "      <td>3</td>\n",
       "      <td>1</td>\n",
       "      <td>0</td>\n",
       "      <td>0</td>\n",
       "      <td>0</td>\n",
       "      <td>0</td>\n",
       "      <td>1</td>\n",
       "    </tr>\n",
       "    <tr>\n",
       "      <th>2</th>\n",
       "      <td>18200205</td>\n",
       "      <td>Valenzuela Martinez Alessandro Gregory</td>\n",
       "      <td>TEORÍA GENERAL DE SISTEMAS</td>\n",
       "      <td>3</td>\n",
       "      <td>1</td>\n",
       "      <td>0</td>\n",
       "      <td>0</td>\n",
       "      <td>0</td>\n",
       "      <td>0</td>\n",
       "      <td>1</td>\n",
       "    </tr>\n",
       "    <tr>\n",
       "      <th>3</th>\n",
       "      <td>18200205</td>\n",
       "      <td>Valenzuela Martinez Alessandro Gregory</td>\n",
       "      <td>MATEMÁTICAS DISCRETAS</td>\n",
       "      <td>3</td>\n",
       "      <td>1</td>\n",
       "      <td>0</td>\n",
       "      <td>0</td>\n",
       "      <td>0</td>\n",
       "      <td>0</td>\n",
       "      <td>1</td>\n",
       "    </tr>\n",
       "    <tr>\n",
       "      <th>4</th>\n",
       "      <td>18200205</td>\n",
       "      <td>Valenzuela Martinez Alessandro Gregory</td>\n",
       "      <td>PROCESOS DE NEGOCIOS</td>\n",
       "      <td>4</td>\n",
       "      <td>1</td>\n",
       "      <td>0</td>\n",
       "      <td>0</td>\n",
       "      <td>0</td>\n",
       "      <td>0</td>\n",
       "      <td>1</td>\n",
       "    </tr>\n",
       "    <tr>\n",
       "      <th>5</th>\n",
       "      <td>18200129</td>\n",
       "      <td>Acuña Anampa Britney Jennifer</td>\n",
       "      <td>NaN</td>\n",
       "      <td>0</td>\n",
       "      <td>0</td>\n",
       "      <td>0</td>\n",
       "      <td>0</td>\n",
       "      <td>0</td>\n",
       "      <td>0</td>\n",
       "      <td>0</td>\n",
       "    </tr>\n",
       "  </tbody>\n",
       "</table>\n",
       "</div>"
      ],
      "text/plain": [
       "       Codigo                      Apellidos y Nobres  \\\n",
       "No.                                                     \n",
       "1    18200205  Valenzuela Martinez Alessandro Gregory   \n",
       "2    18200205  Valenzuela Martinez Alessandro Gregory   \n",
       "3    18200205  Valenzuela Martinez Alessandro Gregory   \n",
       "4    18200205  Valenzuela Martinez Alessandro Gregory   \n",
       "5    18200129           Acuña Anampa Britney Jennifer   \n",
       "\n",
       "                             Cursos_repitencia  Sem.pert  1R  2R  3R  4R  \\\n",
       "No.                                                                        \n",
       "1    PROGRAMACIÓN Y FUNDAMENTOS DE ALGORÍTMICA         3   1   0   0   0   \n",
       "2                   TEORÍA GENERAL DE SISTEMAS         3   1   0   0   0   \n",
       "3                        MATEMÁTICAS DISCRETAS         3   1   0   0   0   \n",
       "4                         PROCESOS DE NEGOCIOS         4   1   0   0   0   \n",
       "5                                          NaN         0   0   0   0   0   \n",
       "\n",
       "     Otros  Repitencia  \n",
       "No.                     \n",
       "1        0           1  \n",
       "2        0           1  \n",
       "3        0           1  \n",
       "4        0           1  \n",
       "5        0           0  "
      ]
     },
     "execution_count": 131,
     "metadata": {},
     "output_type": "execute_result"
    }
   ],
   "source": [
    "data.head(5)"
   ]
  },
  {
   "cell_type": "code",
   "execution_count": 4,
   "id": "random-durham",
   "metadata": {},
   "outputs": [
    {
     "name": "stdout",
     "output_type": "stream",
     "text": [
      "<class 'pandas.core.frame.DataFrame'>\n",
      "Int64Index: 46 entries, 1 to 46\n",
      "Data columns (total 9 columns):\n",
      " #   Column              Non-Null Count  Dtype \n",
      "---  ------              --------------  ----- \n",
      " 0   Codigo              46 non-null     int64 \n",
      " 1   Apellidos y Nobres  46 non-null     object\n",
      " 2   Cursos_repitencia   33 non-null     object\n",
      " 3   Sem.pert            46 non-null     int64 \n",
      " 4   1R                  46 non-null     int64 \n",
      " 5   2R                  46 non-null     int64 \n",
      " 6   3R                  46 non-null     int64 \n",
      " 7   4R                  46 non-null     int64 \n",
      " 8   Otros               46 non-null     int64 \n",
      "dtypes: int64(7), object(2)\n",
      "memory usage: 3.6+ KB\n"
     ]
    }
   ],
   "source": [
    "#exploracion de datos\n",
    "data.info()"
   ]
  },
  {
   "cell_type": "code",
   "execution_count": 5,
   "id": "excessive-champion",
   "metadata": {},
   "outputs": [],
   "source": [
    "colum_numerica=[col for col in data.columns if data[col].dtype in ('int64','float64')]\n",
    "colum_texto=[col for col in data.columns if data[col].dtype=='object']"
   ]
  },
  {
   "cell_type": "code",
   "execution_count": 6,
   "id": "nutritional-interface",
   "metadata": {},
   "outputs": [
    {
     "name": "stdout",
     "output_type": "stream",
     "text": [
      "------COLUMNAS NUMERICAS-----\n",
      "Codigo\n",
      "Sem.pert\n",
      "1R\n",
      "2R\n",
      "3R\n",
      "4R\n",
      "Otros\n",
      "------COLUMNAS TEXTO--------\n",
      "Apellidos y Nobres\n",
      "Cursos_repitencia\n"
     ]
    }
   ],
   "source": [
    "print(\"------COLUMNAS NUMERICAS-----\")\n",
    "print(\"\\n\".join(colum_numerica))\n",
    "print(\"------COLUMNAS TEXTO--------\")\n",
    "print(\"\\n\".join(colum_texto))"
   ]
  },
  {
   "cell_type": "code",
   "execution_count": 7,
   "id": "happy-market",
   "metadata": {},
   "outputs": [
    {
     "name": "stderr",
     "output_type": "stream",
     "text": [
      "C:\\Users\\JOHAN\\anaconda3\\envs\\mlearning\\lib\\site-packages\\seaborn\\distributions.py:305: UserWarning: Dataset has 0 variance; skipping density estimate.\n",
      "  warnings.warn(msg, UserWarning)\n",
      "C:\\Users\\JOHAN\\anaconda3\\envs\\mlearning\\lib\\site-packages\\seaborn\\distributions.py:305: UserWarning: Dataset has 0 variance; skipping density estimate.\n",
      "  warnings.warn(msg, UserWarning)\n",
      "C:\\Users\\JOHAN\\anaconda3\\envs\\mlearning\\lib\\site-packages\\seaborn\\distributions.py:305: UserWarning: Dataset has 0 variance; skipping density estimate.\n",
      "  warnings.warn(msg, UserWarning)\n"
     ]
    },
    {
     "data": {
      "image/png": "[encoded data removed]",
      "text/plain": [
       "<Figure size 360x360 with 1 Axes>"
      ]
     },
     "metadata": {},
     "output_type": "display_data"
    },
    {
     "data": {
      "image/png": "[encoded data removed]",
      "text/plain": [
       "<Figure size 360x360 with 1 Axes>"
      ]
     },
     "metadata": {},
     "output_type": "display_data"
    },
    {
     "data": {
      "image/png": "[encoded data removed]",
      "text/plain": [
       "<Figure size 360x360 with 1 Axes>"
      ]
     },
     "metadata": {},
     "output_type": "display_data"
    },
    {
     "data": {
      "image/png": "[encoded data removed]",
      "text/plain": [
       "<Figure size 360x360 with 1 Axes>"
      ]
     },
     "metadata": {},
     "output_type": "display_data"
    },
    {
     "data": {
      "image/png": "[encoded data removed]",
      "text/plain": [
       "<Figure size 360x360 with 1 Axes>"
      ]
     },
     "metadata": {},
     "output_type": "display_data"
    },
    {
     "data": {
      "image/png": "[encoded data removed]",
      "text/plain": [
       "<Figure size 360x360 with 1 Axes>"
      ]
     },
     "metadata": {},
     "output_type": "display_data"
    },
    {
     "data": {
      "image/png": "[encoded data removed]",
      "text/plain": [
       "<Figure size 360x360 with 1 Axes>"
      ]
     },
     "metadata": {},
     "output_type": "display_data"
    }
   ],
   "source": [
    "for col in colum_numerica:\n",
    "    sns.displot(data[col],kde=True)"
   ]
  },
  {
   "cell_type": "code",
   "execution_count": 8,
   "id": "supposed-ideal",
   "metadata": {},
   "outputs": [
    {
     "data": {
      "text/plain": [
       "Codigo                 0\n",
       "Apellidos y Nobres     0\n",
       "Cursos_repitencia     13\n",
       "Sem.pert               0\n",
       "1R                     0\n",
       "2R                     0\n",
       "3R                     0\n",
       "4R                     0\n",
       "Otros                  0\n",
       "dtype: int64"
      ]
     },
     "execution_count": 8,
     "metadata": {},
     "output_type": "execute_result"
    }
   ],
   "source": [
    "#los datos que deben filtrarse son de Nombres, codigo\n",
    "#ahora analizamos los valores faltantes\n",
    "data.isnull().sum(axis=0)"
   ]
  },
  {
   "cell_type": "code",
   "execution_count": 9,
   "id": "accessory-slope",
   "metadata": {},
   "outputs": [],
   "source": [
    "#Tanto el nombre de cursos, como la suma de las repitancias nos aportan lo mismo\n",
    "#ya que la existencia de un valor en el nombre indica que repitio en caso contrario no.\n",
    "#la suma de las 3 variables de repitencia si es mayor a 0 entonces repitio, en caso contrario no.\n",
    "#si lo vemos de esa forma solo usamos la logica de programacion para saber si aprobó o no y no entraria machine learning y esto esta mal\n",
    "#SOLUCION: Discretizar las 4 columnas R1,R2,R3,y cursos repitencia,en una sola columna y podemos demostrarlo con la siguiente correlacion"
   ]
  },
  {
   "cell_type": "code",
   "execution_count": 15,
   "id": "opening-soldier",
   "metadata": {},
   "outputs": [],
   "source": [
    "#creamos una variable artificial\n",
    "data['Repitencia']= np.where((data['Cursos_repitencia']!=np.nan )& ((data['1R']+data['2R']+data['3R']-data['Otros'])>0),1,0)"
   ]
  },
  {
   "cell_type": "code",
   "execution_count": 16,
   "id": "prostate-montana",
   "metadata": {},
   "outputs": [
    {
     "data": {
      "text/plain": [
       "No.\n",
       "1    1\n",
       "2    1\n",
       "3    1\n",
       "4    1\n",
       "5    0\n",
       "Name: Repitencia, dtype: int32"
      ]
     },
     "execution_count": 16,
     "metadata": {},
     "output_type": "execute_result"
    }
   ],
   "source": [
    "data['Repitencia'][:5]"
   ]
  },
  {
   "cell_type": "code",
   "execution_count": 17,
   "id": "efficient-israeli",
   "metadata": {},
   "outputs": [
    {
     "data": {
      "text/html": [
       "<div>\n",
       "<style scoped>\n",
       "    .dataframe tbody tr th:only-of-type {\n",
       "        vertical-align: middle;\n",
       "    }\n",
       "\n",
       "    .dataframe tbody tr th {\n",
       "        vertical-align: top;\n",
       "    }\n",
       "\n",
       "    .dataframe thead th {\n",
       "        text-align: right;\n",
       "    }\n",
       "</style>\n",
       "<table border=\"1\" class=\"dataframe\">\n",
       "  <thead>\n",
       "    <tr style=\"text-align: right;\">\n",
       "      <th></th>\n",
       "      <th>Codigo</th>\n",
       "      <th>Apellidos y Nobres</th>\n",
       "      <th>Cursos_repitencia</th>\n",
       "      <th>Sem.pert</th>\n",
       "      <th>1R</th>\n",
       "      <th>2R</th>\n",
       "      <th>3R</th>\n",
       "      <th>4R</th>\n",
       "      <th>Otros</th>\n",
       "      <th>Repitencia</th>\n",
       "    </tr>\n",
       "    <tr>\n",
       "      <th>No.</th>\n",
       "      <th></th>\n",
       "      <th></th>\n",
       "      <th></th>\n",
       "      <th></th>\n",
       "      <th></th>\n",
       "      <th></th>\n",
       "      <th></th>\n",
       "      <th></th>\n",
       "      <th></th>\n",
       "      <th></th>\n",
       "    </tr>\n",
       "  </thead>\n",
       "  <tbody>\n",
       "    <tr>\n",
       "      <th>1</th>\n",
       "      <td>18200205</td>\n",
       "      <td>Valenzuela Martinez Alessandro Gregory</td>\n",
       "      <td>PROGRAMACIÓN Y FUNDAMENTOS DE ALGORÍTMICA</td>\n",
       "      <td>3</td>\n",
       "      <td>1</td>\n",
       "      <td>0</td>\n",
       "      <td>0</td>\n",
       "      <td>0</td>\n",
       "      <td>0</td>\n",
       "      <td>1</td>\n",
       "    </tr>\n",
       "    <tr>\n",
       "      <th>2</th>\n",
       "      <td>18200205</td>\n",
       "      <td>Valenzuela Martinez Alessandro Gregory</td>\n",
       "      <td>TEORÍA GENERAL DE SISTEMAS</td>\n",
       "      <td>3</td>\n",
       "      <td>1</td>\n",
       "      <td>0</td>\n",
       "      <td>0</td>\n",
       "      <td>0</td>\n",
       "      <td>0</td>\n",
       "      <td>1</td>\n",
       "    </tr>\n",
       "    <tr>\n",
       "      <th>3</th>\n",
       "      <td>18200205</td>\n",
       "      <td>Valenzuela Martinez Alessandro Gregory</td>\n",
       "      <td>MATEMÁTICAS DISCRETAS</td>\n",
       "      <td>3</td>\n",
       "      <td>1</td>\n",
       "      <td>0</td>\n",
       "      <td>0</td>\n",
       "      <td>0</td>\n",
       "      <td>0</td>\n",
       "      <td>1</td>\n",
       "    </tr>\n",
       "    <tr>\n",
       "      <th>4</th>\n",
       "      <td>18200205</td>\n",
       "      <td>Valenzuela Martinez Alessandro Gregory</td>\n",
       "      <td>PROCESOS DE NEGOCIOS</td>\n",
       "      <td>4</td>\n",
       "      <td>1</td>\n",
       "      <td>0</td>\n",
       "      <td>0</td>\n",
       "      <td>0</td>\n",
       "      <td>0</td>\n",
       "      <td>1</td>\n",
       "    </tr>\n",
       "    <tr>\n",
       "      <th>5</th>\n",
       "      <td>18200129</td>\n",
       "      <td>Acuña Anampa Britney Jennifer</td>\n",
       "      <td>NaN</td>\n",
       "      <td>0</td>\n",
       "      <td>0</td>\n",
       "      <td>0</td>\n",
       "      <td>0</td>\n",
       "      <td>0</td>\n",
       "      <td>0</td>\n",
       "      <td>0</td>\n",
       "    </tr>\n",
       "  </tbody>\n",
       "</table>\n",
       "</div>"
      ],
      "text/plain": [
       "       Codigo                      Apellidos y Nobres  \\\n",
       "No.                                                     \n",
       "1    18200205  Valenzuela Martinez Alessandro Gregory   \n",
       "2    18200205  Valenzuela Martinez Alessandro Gregory   \n",
       "3    18200205  Valenzuela Martinez Alessandro Gregory   \n",
       "4    18200205  Valenzuela Martinez Alessandro Gregory   \n",
       "5    18200129           Acuña Anampa Britney Jennifer   \n",
       "\n",
       "                             Cursos_repitencia  Sem.pert  1R  2R  3R  4R  \\\n",
       "No.                                                                        \n",
       "1    PROGRAMACIÓN Y FUNDAMENTOS DE ALGORÍTMICA         3   1   0   0   0   \n",
       "2                   TEORÍA GENERAL DE SISTEMAS         3   1   0   0   0   \n",
       "3                        MATEMÁTICAS DISCRETAS         3   1   0   0   0   \n",
       "4                         PROCESOS DE NEGOCIOS         4   1   0   0   0   \n",
       "5                                          NaN         0   0   0   0   0   \n",
       "\n",
       "     Otros  Repitencia  \n",
       "No.                     \n",
       "1        0           1  \n",
       "2        0           1  \n",
       "3        0           1  \n",
       "4        0           1  \n",
       "5        0           0  "
      ]
     },
     "execution_count": 17,
     "metadata": {},
     "output_type": "execute_result"
    }
   ],
   "source": [
    "data.head()"
   ]
  },
  {
   "cell_type": "code",
   "execution_count": 18,
   "id": "velvet-programmer",
   "metadata": {},
   "outputs": [
    {
     "data": {
      "text/plain": [
       "<AxesSubplot:>"
      ]
     },
     "execution_count": 18,
     "metadata": {},
     "output_type": "execute_result"
    },
    {
     "data": {
      "image/png": "[encoded data removed]",
      "text/plain": [
       "<Figure size 432x288 with 2 Axes>"
      ]
     },
     "metadata": {},
     "output_type": "display_data"
    }
   ],
   "source": [
    "sns.heatmap(data.corr(method=\"pearson\"))"
   ]
  },
  {
   "cell_type": "code",
   "execution_count": 20,
   "id": "widespread-dallas",
   "metadata": {},
   "outputs": [],
   "source": [
    "#luego podemos concluir que la variable repitencia, esta correlacionada con el SemestrePert\n",
    "#un indicador curiosos que nos dice que a medida que aumentan los semestres hay mas repitencias\n",
    "#las variables 3R.4R.Otros, no aportan al modelo, es decir no estan correlacionadas con la variable objetivo\n",
    "#la variable 1R esta correlacionada\n",
    "#la variables codigo no esta correlacionada\n",
    "#Es decir solo nos quedamos con Sem.Pert, 1R, 2R ... pero como habiamos dicho, tener 1R y 2R aporta lo mismo que tener\n",
    "#la variable repitencia debido a que esta relacionada a la precencia de un curso y la suma de estos\n",
    "#entonces solo nos quedamos con Semestre.pert\n"
   ]
  },
  {
   "cell_type": "code",
   "execution_count": 30,
   "id": "fifteen-making",
   "metadata": {},
   "outputs": [],
   "source": [
    "data_repitencias=data[['Codigo','Sem.pert','Repitencia']]"
   ]
  },
  {
   "cell_type": "code",
   "execution_count": 21,
   "id": "established-firewall",
   "metadata": {},
   "outputs": [],
   "source": [
    "\n",
    "#ahora nos faltan mas datos,por lo cual convocamos ala data de calificaciones\n",
    "data_calificaciones=pd.read_csv(r\"C:\\Users\\JOHAN\\Desktop\\2020-II\\HOJA_1_CALIFICACIONES.csv\",sep=\";\")"
   ]
  },
  {
   "cell_type": "code",
   "execution_count": 22,
   "id": "fewer-cartoon",
   "metadata": {},
   "outputs": [
    {
     "data": {
      "text/html": [
       "<div>\n",
       "<style scoped>\n",
       "    .dataframe tbody tr th:only-of-type {\n",
       "        vertical-align: middle;\n",
       "    }\n",
       "\n",
       "    .dataframe tbody tr th {\n",
       "        vertical-align: top;\n",
       "    }\n",
       "\n",
       "    .dataframe thead th {\n",
       "        text-align: right;\n",
       "    }\n",
       "</style>\n",
       "<table border=\"1\" class=\"dataframe\">\n",
       "  <thead>\n",
       "    <tr style=\"text-align: right;\">\n",
       "      <th></th>\n",
       "      <th>No.</th>\n",
       "      <th>Codigo</th>\n",
       "      <th>Apellidos y Nobres</th>\n",
       "      <th>Escuela</th>\n",
       "      <th>Plan Estudio</th>\n",
       "      <th>Edad</th>\n",
       "      <th>Sexo</th>\n",
       "      <th>No.cur-rep</th>\n",
       "      <th>No.asig-mat</th>\n",
       "      <th>No.cred.Mat</th>\n",
       "      <th>Prom.pond</th>\n",
       "      <th>Cred.faltante</th>\n",
       "      <th>Total.Cred</th>\n",
       "      <th>Cred.Llevad</th>\n",
       "    </tr>\n",
       "  </thead>\n",
       "  <tbody>\n",
       "    <tr>\n",
       "      <th>0</th>\n",
       "      <td>1</td>\n",
       "      <td>18200129</td>\n",
       "      <td>Acuña Anampa Britney Jennifer</td>\n",
       "      <td>Sistemas</td>\n",
       "      <td>2018</td>\n",
       "      <td>20</td>\n",
       "      <td>F</td>\n",
       "      <td>0</td>\n",
       "      <td>7</td>\n",
       "      <td>22</td>\n",
       "      <td>13.728</td>\n",
       "      <td>99</td>\n",
       "      <td>213</td>\n",
       "      <td>114</td>\n",
       "    </tr>\n",
       "    <tr>\n",
       "      <th>1</th>\n",
       "      <td>2</td>\n",
       "      <td>18200002</td>\n",
       "      <td>Alonso Varillas, Margorie Margarita</td>\n",
       "      <td>Sistemas</td>\n",
       "      <td>2018</td>\n",
       "      <td>21</td>\n",
       "      <td>F</td>\n",
       "      <td>2</td>\n",
       "      <td>7</td>\n",
       "      <td>22</td>\n",
       "      <td>14.211</td>\n",
       "      <td>99</td>\n",
       "      <td>213</td>\n",
       "      <td>114</td>\n",
       "    </tr>\n",
       "    <tr>\n",
       "      <th>2</th>\n",
       "      <td>3</td>\n",
       "      <td>18200055</td>\n",
       "      <td>Altamirano Alca Fernando</td>\n",
       "      <td>Sistemas</td>\n",
       "      <td>2018</td>\n",
       "      <td>20</td>\n",
       "      <td>M</td>\n",
       "      <td>0</td>\n",
       "      <td>7</td>\n",
       "      <td>22</td>\n",
       "      <td>14.904</td>\n",
       "      <td>99</td>\n",
       "      <td>213</td>\n",
       "      <td>114</td>\n",
       "    </tr>\n",
       "    <tr>\n",
       "      <th>3</th>\n",
       "      <td>4</td>\n",
       "      <td>18200057</td>\n",
       "      <td>Avila Velasquez Luis Enrique</td>\n",
       "      <td>Sistemas</td>\n",
       "      <td>2018</td>\n",
       "      <td>22</td>\n",
       "      <td>M</td>\n",
       "      <td>0</td>\n",
       "      <td>7</td>\n",
       "      <td>22</td>\n",
       "      <td>14.351</td>\n",
       "      <td>99</td>\n",
       "      <td>213</td>\n",
       "      <td>114</td>\n",
       "    </tr>\n",
       "    <tr>\n",
       "      <th>4</th>\n",
       "      <td>5</td>\n",
       "      <td>18200008</td>\n",
       "      <td>Cacho Leon, César Francisco</td>\n",
       "      <td>Sistemas</td>\n",
       "      <td>2018</td>\n",
       "      <td>19</td>\n",
       "      <td>M</td>\n",
       "      <td>3</td>\n",
       "      <td>7</td>\n",
       "      <td>22</td>\n",
       "      <td>12.435</td>\n",
       "      <td>102</td>\n",
       "      <td>213</td>\n",
       "      <td>111</td>\n",
       "    </tr>\n",
       "  </tbody>\n",
       "</table>\n",
       "</div>"
      ],
      "text/plain": [
       "   No.    Codigo                   Apellidos y Nobres   Escuela  Plan Estudio  \\\n",
       "0    1  18200129        Acuña Anampa Britney Jennifer  Sistemas          2018   \n",
       "1    2  18200002  Alonso Varillas, Margorie Margarita  Sistemas          2018   \n",
       "2    3  18200055             Altamirano Alca Fernando  Sistemas          2018   \n",
       "3    4  18200057         Avila Velasquez Luis Enrique  Sistemas          2018   \n",
       "4    5  18200008          Cacho Leon, César Francisco  Sistemas          2018   \n",
       "\n",
       "   Edad Sexo  No.cur-rep  No.asig-mat  No.cred.Mat  Prom.pond  Cred.faltante  \\\n",
       "0    20    F           0            7           22     13.728             99   \n",
       "1    21    F           2            7           22     14.211             99   \n",
       "2    20    M           0            7           22     14.904             99   \n",
       "3    22    M           0            7           22     14.351             99   \n",
       "4    19    M           3            7           22     12.435            102   \n",
       "\n",
       "   Total.Cred  Cred.Llevad  \n",
       "0         213          114  \n",
       "1         213          114  \n",
       "2         213          114  \n",
       "3         213          114  \n",
       "4         213          111  "
      ]
     },
     "execution_count": 22,
     "metadata": {},
     "output_type": "execute_result"
    }
   ],
   "source": [
    "data_calificaciones.head()"
   ]
  },
  {
   "cell_type": "code",
   "execution_count": 25,
   "id": "explicit-france",
   "metadata": {},
   "outputs": [],
   "source": [
    "data_calificaciones=data_calificaciones[['Codigo','Edad','Sexo',\"No.cur-rep\",'Prom.pond']]"
   ]
  },
  {
   "cell_type": "code",
   "execution_count": 26,
   "id": "downtown-creek",
   "metadata": {},
   "outputs": [
    {
     "data": {
      "text/html": [
       "<div>\n",
       "<style scoped>\n",
       "    .dataframe tbody tr th:only-of-type {\n",
       "        vertical-align: middle;\n",
       "    }\n",
       "\n",
       "    .dataframe tbody tr th {\n",
       "        vertical-align: top;\n",
       "    }\n",
       "\n",
       "    .dataframe thead th {\n",
       "        text-align: right;\n",
       "    }\n",
       "</style>\n",
       "<table border=\"1\" class=\"dataframe\">\n",
       "  <thead>\n",
       "    <tr style=\"text-align: right;\">\n",
       "      <th></th>\n",
       "      <th>Codigo</th>\n",
       "      <th>Edad</th>\n",
       "      <th>Sexo</th>\n",
       "      <th>No.cur-rep</th>\n",
       "      <th>Prom.pond</th>\n",
       "    </tr>\n",
       "  </thead>\n",
       "  <tbody>\n",
       "    <tr>\n",
       "      <th>0</th>\n",
       "      <td>18200129</td>\n",
       "      <td>20</td>\n",
       "      <td>F</td>\n",
       "      <td>0</td>\n",
       "      <td>13.728</td>\n",
       "    </tr>\n",
       "    <tr>\n",
       "      <th>1</th>\n",
       "      <td>18200002</td>\n",
       "      <td>21</td>\n",
       "      <td>F</td>\n",
       "      <td>2</td>\n",
       "      <td>14.211</td>\n",
       "    </tr>\n",
       "    <tr>\n",
       "      <th>2</th>\n",
       "      <td>18200055</td>\n",
       "      <td>20</td>\n",
       "      <td>M</td>\n",
       "      <td>0</td>\n",
       "      <td>14.904</td>\n",
       "    </tr>\n",
       "    <tr>\n",
       "      <th>3</th>\n",
       "      <td>18200057</td>\n",
       "      <td>22</td>\n",
       "      <td>M</td>\n",
       "      <td>0</td>\n",
       "      <td>14.351</td>\n",
       "    </tr>\n",
       "    <tr>\n",
       "      <th>4</th>\n",
       "      <td>18200008</td>\n",
       "      <td>19</td>\n",
       "      <td>M</td>\n",
       "      <td>3</td>\n",
       "      <td>12.435</td>\n",
       "    </tr>\n",
       "  </tbody>\n",
       "</table>\n",
       "</div>"
      ],
      "text/plain": [
       "     Codigo  Edad Sexo  No.cur-rep  Prom.pond\n",
       "0  18200129    20    F           0     13.728\n",
       "1  18200002    21    F           2     14.211\n",
       "2  18200055    20    M           0     14.904\n",
       "3  18200057    22    M           0     14.351\n",
       "4  18200008    19    M           3     12.435"
      ]
     },
     "execution_count": 26,
     "metadata": {},
     "output_type": "execute_result"
    }
   ],
   "source": [
    "data_calificaciones.head()"
   ]
  },
  {
   "cell_type": "code",
   "execution_count": 31,
   "id": "experimental-jonathan",
   "metadata": {},
   "outputs": [],
   "source": [
    "#mezclamos los datos uniendolos por el codigo\n",
    "data_merge=data_calificaciones.merge(data_repitencias,how='inner',on='Codigo')"
   ]
  },
  {
   "cell_type": "code",
   "execution_count": 32,
   "id": "danish-variable",
   "metadata": {},
   "outputs": [
    {
     "data": {
      "text/html": [
       "<div>\n",
       "<style scoped>\n",
       "    .dataframe tbody tr th:only-of-type {\n",
       "        vertical-align: middle;\n",
       "    }\n",
       "\n",
       "    .dataframe tbody tr th {\n",
       "        vertical-align: top;\n",
       "    }\n",
       "\n",
       "    .dataframe thead th {\n",
       "        text-align: right;\n",
       "    }\n",
       "</style>\n",
       "<table border=\"1\" class=\"dataframe\">\n",
       "  <thead>\n",
       "    <tr style=\"text-align: right;\">\n",
       "      <th></th>\n",
       "      <th>Codigo</th>\n",
       "      <th>Edad</th>\n",
       "      <th>Sexo</th>\n",
       "      <th>No.cur-rep</th>\n",
       "      <th>Prom.pond</th>\n",
       "      <th>Sem.pert</th>\n",
       "      <th>Repitencia</th>\n",
       "    </tr>\n",
       "  </thead>\n",
       "  <tbody>\n",
       "    <tr>\n",
       "      <th>0</th>\n",
       "      <td>18200129</td>\n",
       "      <td>20</td>\n",
       "      <td>F</td>\n",
       "      <td>0</td>\n",
       "      <td>13.728</td>\n",
       "      <td>0</td>\n",
       "      <td>0</td>\n",
       "    </tr>\n",
       "    <tr>\n",
       "      <th>1</th>\n",
       "      <td>18200002</td>\n",
       "      <td>21</td>\n",
       "      <td>F</td>\n",
       "      <td>2</td>\n",
       "      <td>14.211</td>\n",
       "      <td>3</td>\n",
       "      <td>1</td>\n",
       "    </tr>\n",
       "    <tr>\n",
       "      <th>2</th>\n",
       "      <td>18200002</td>\n",
       "      <td>21</td>\n",
       "      <td>F</td>\n",
       "      <td>2</td>\n",
       "      <td>14.211</td>\n",
       "      <td>3</td>\n",
       "      <td>1</td>\n",
       "    </tr>\n",
       "    <tr>\n",
       "      <th>3</th>\n",
       "      <td>18200058</td>\n",
       "      <td>23</td>\n",
       "      <td>M</td>\n",
       "      <td>1</td>\n",
       "      <td>13.901</td>\n",
       "      <td>5</td>\n",
       "      <td>1</td>\n",
       "    </tr>\n",
       "    <tr>\n",
       "      <th>4</th>\n",
       "      <td>18200059</td>\n",
       "      <td>19</td>\n",
       "      <td>M</td>\n",
       "      <td>0</td>\n",
       "      <td>14.719</td>\n",
       "      <td>0</td>\n",
       "      <td>0</td>\n",
       "    </tr>\n",
       "    <tr>\n",
       "      <th>5</th>\n",
       "      <td>18200139</td>\n",
       "      <td>21</td>\n",
       "      <td>M</td>\n",
       "      <td>0</td>\n",
       "      <td>14.377</td>\n",
       "      <td>0</td>\n",
       "      <td>0</td>\n",
       "    </tr>\n",
       "    <tr>\n",
       "      <th>6</th>\n",
       "      <td>18200216</td>\n",
       "      <td>21</td>\n",
       "      <td>M</td>\n",
       "      <td>0</td>\n",
       "      <td>13.816</td>\n",
       "      <td>0</td>\n",
       "      <td>0</td>\n",
       "    </tr>\n",
       "    <tr>\n",
       "      <th>7</th>\n",
       "      <td>18200217</td>\n",
       "      <td>21</td>\n",
       "      <td>M</td>\n",
       "      <td>0</td>\n",
       "      <td>14.061</td>\n",
       "      <td>0</td>\n",
       "      <td>0</td>\n",
       "    </tr>\n",
       "    <tr>\n",
       "      <th>8</th>\n",
       "      <td>18200019</td>\n",
       "      <td>22</td>\n",
       "      <td>M</td>\n",
       "      <td>1</td>\n",
       "      <td>13.246</td>\n",
       "      <td>3</td>\n",
       "      <td>1</td>\n",
       "    </tr>\n",
       "    <tr>\n",
       "      <th>9</th>\n",
       "      <td>18200148</td>\n",
       "      <td>19</td>\n",
       "      <td>M</td>\n",
       "      <td>0</td>\n",
       "      <td>14.450</td>\n",
       "      <td>0</td>\n",
       "      <td>0</td>\n",
       "    </tr>\n",
       "  </tbody>\n",
       "</table>\n",
       "</div>"
      ],
      "text/plain": [
       "     Codigo  Edad Sexo  No.cur-rep  Prom.pond  Sem.pert  Repitencia\n",
       "0  18200129    20    F           0     13.728         0           0\n",
       "1  18200002    21    F           2     14.211         3           1\n",
       "2  18200002    21    F           2     14.211         3           1\n",
       "3  18200058    23    M           1     13.901         5           1\n",
       "4  18200059    19    M           0     14.719         0           0\n",
       "5  18200139    21    M           0     14.377         0           0\n",
       "6  18200216    21    M           0     13.816         0           0\n",
       "7  18200217    21    M           0     14.061         0           0\n",
       "8  18200019    22    M           1     13.246         3           1\n",
       "9  18200148    19    M           0     14.450         0           0"
      ]
     },
     "execution_count": 32,
     "metadata": {},
     "output_type": "execute_result"
    }
   ],
   "source": [
    "data_merge.head(10)"
   ]
  },
  {
   "cell_type": "code",
   "execution_count": 33,
   "id": "useful-motion",
   "metadata": {},
   "outputs": [
    {
     "name": "stdout",
     "output_type": "stream",
     "text": [
      "<class 'pandas.core.frame.DataFrame'>\n",
      "Int64Index: 46 entries, 0 to 45\n",
      "Data columns (total 7 columns):\n",
      " #   Column      Non-Null Count  Dtype  \n",
      "---  ------      --------------  -----  \n",
      " 0   Codigo      46 non-null     int64  \n",
      " 1   Edad        46 non-null     int64  \n",
      " 2   Sexo        46 non-null     object \n",
      " 3   No.cur-rep  46 non-null     int64  \n",
      " 4   Prom.pond   46 non-null     float64\n",
      " 5   Sem.pert    46 non-null     int64  \n",
      " 6   Repitencia  46 non-null     int32  \n",
      "dtypes: float64(1), int32(1), int64(4), object(1)\n",
      "memory usage: 2.7+ KB\n"
     ]
    }
   ],
   "source": [
    "data_merge.info()"
   ]
  },
  {
   "cell_type": "code",
   "execution_count": 35,
   "id": "seasonal-better",
   "metadata": {},
   "outputs": [],
   "source": [
    "#no hay valores faltantes\n",
    "#luego codificamos la variable sexo\n",
    "from sklearn.preprocessing import LabelEncoder\n",
    "\n",
    "encoder=LabelEncoder()\n",
    "data_merge['Sexo']=encoder.fit_transform(data_merge['Sexo'])"
   ]
  },
  {
   "cell_type": "code",
   "execution_count": 36,
   "id": "exclusive-demonstration",
   "metadata": {},
   "outputs": [
    {
     "data": {
      "text/html": [
       "<div>\n",
       "<style scoped>\n",
       "    .dataframe tbody tr th:only-of-type {\n",
       "        vertical-align: middle;\n",
       "    }\n",
       "\n",
       "    .dataframe tbody tr th {\n",
       "        vertical-align: top;\n",
       "    }\n",
       "\n",
       "    .dataframe thead th {\n",
       "        text-align: right;\n",
       "    }\n",
       "</style>\n",
       "<table border=\"1\" class=\"dataframe\">\n",
       "  <thead>\n",
       "    <tr style=\"text-align: right;\">\n",
       "      <th></th>\n",
       "      <th>Codigo</th>\n",
       "      <th>Edad</th>\n",
       "      <th>Sexo</th>\n",
       "      <th>No.cur-rep</th>\n",
       "      <th>Prom.pond</th>\n",
       "      <th>Sem.pert</th>\n",
       "      <th>Repitencia</th>\n",
       "    </tr>\n",
       "  </thead>\n",
       "  <tbody>\n",
       "    <tr>\n",
       "      <th>0</th>\n",
       "      <td>18200129</td>\n",
       "      <td>20</td>\n",
       "      <td>0</td>\n",
       "      <td>0</td>\n",
       "      <td>13.728</td>\n",
       "      <td>0</td>\n",
       "      <td>0</td>\n",
       "    </tr>\n",
       "    <tr>\n",
       "      <th>1</th>\n",
       "      <td>18200002</td>\n",
       "      <td>21</td>\n",
       "      <td>0</td>\n",
       "      <td>2</td>\n",
       "      <td>14.211</td>\n",
       "      <td>3</td>\n",
       "      <td>1</td>\n",
       "    </tr>\n",
       "    <tr>\n",
       "      <th>2</th>\n",
       "      <td>18200002</td>\n",
       "      <td>21</td>\n",
       "      <td>0</td>\n",
       "      <td>2</td>\n",
       "      <td>14.211</td>\n",
       "      <td>3</td>\n",
       "      <td>1</td>\n",
       "    </tr>\n",
       "    <tr>\n",
       "      <th>3</th>\n",
       "      <td>18200058</td>\n",
       "      <td>23</td>\n",
       "      <td>1</td>\n",
       "      <td>1</td>\n",
       "      <td>13.901</td>\n",
       "      <td>5</td>\n",
       "      <td>1</td>\n",
       "    </tr>\n",
       "    <tr>\n",
       "      <th>4</th>\n",
       "      <td>18200059</td>\n",
       "      <td>19</td>\n",
       "      <td>1</td>\n",
       "      <td>0</td>\n",
       "      <td>14.719</td>\n",
       "      <td>0</td>\n",
       "      <td>0</td>\n",
       "    </tr>\n",
       "  </tbody>\n",
       "</table>\n",
       "</div>"
      ],
      "text/plain": [
       "     Codigo  Edad  Sexo  No.cur-rep  Prom.pond  Sem.pert  Repitencia\n",
       "0  18200129    20     0           0     13.728         0           0\n",
       "1  18200002    21     0           2     14.211         3           1\n",
       "2  18200002    21     0           2     14.211         3           1\n",
       "3  18200058    23     1           1     13.901         5           1\n",
       "4  18200059    19     1           0     14.719         0           0"
      ]
     },
     "execution_count": 36,
     "metadata": {},
     "output_type": "execute_result"
    }
   ],
   "source": [
    "data_merge.head()"
   ]
  },
  {
   "cell_type": "code",
   "execution_count": 37,
   "id": "quiet-combine",
   "metadata": {},
   "outputs": [
    {
     "data": {
      "text/plain": [
       "<AxesSubplot:>"
      ]
     },
     "execution_count": 37,
     "metadata": {},
     "output_type": "execute_result"
    },
    {
     "data": {
      "image/png": "[encoded data removed]",
      "text/plain": [
       "<Figure size 432x288 with 2 Axes>"
      ]
     },
     "metadata": {},
     "output_type": "display_data"
    }
   ],
   "source": [
    "#ahora podemos ver la correlacion de variables\n",
    "sns.heatmap(data_merge.corr(method=\"pearson\"))"
   ]
  },
  {
   "cell_type": "code",
   "execution_count": 72,
   "id": "concrete-explorer",
   "metadata": {},
   "outputs": [],
   "source": [
    "#preparacion de datos\n",
    "from sklearn.preprocessing import MinMaxScaler\n",
    "scaler=MinMaxScaler(feature_range=(0,1))"
   ]
  },
  {
   "cell_type": "code",
   "execution_count": 73,
   "id": "spoken-richmond",
   "metadata": {},
   "outputs": [],
   "source": [
    "#eliminamos el codigo de estudiante porque noss sirvio para el merge\n",
    "data_merge=data_merge.drop('Codigo',axis=1)"
   ]
  },
  {
   "cell_type": "code",
   "execution_count": 74,
   "id": "tribal-glass",
   "metadata": {},
   "outputs": [],
   "source": [
    "#separacion de datos\n",
    "X=data_merge.drop('Repitencia',axis=1).values\n",
    "y=data_merge['Repitencia'].values\n",
    "from sklearn.model_selection import train_test_split\n",
    "\n",
    "x_train,x_test,y_train,y_test=train_test_split(X,y,test_size=0.2,random_state=42,shuffle=True,stratify=y)\n"
   ]
  },
  {
   "cell_type": "code",
   "execution_count": 75,
   "id": "indonesian-cargo",
   "metadata": {},
   "outputs": [],
   "source": [
    "#escalamiento de datos\n",
    "scaler.fit(x_train)\n",
    "x_train=scaler.transform(x_train)\n",
    "x_test=scaler.transform(x_test)"
   ]
  },
  {
   "cell_type": "code",
   "execution_count": 86,
   "id": "alternative-butler",
   "metadata": {},
   "outputs": [],
   "source": [
    "#ahora escogemos el modelo de maquinas de soporte vectorial\n",
    "from sklearn.ensemble import RandomForestClassifier\n",
    "\n",
    "model=RandomForestClassifier(n_estimators=400,max_depth=7)"
   ]
  },
  {
   "cell_type": "code",
   "execution_count": 87,
   "id": "meaning-disease",
   "metadata": {},
   "outputs": [
    {
     "data": {
      "text/plain": [
       "RandomForestClassifier(max_depth=7, n_estimators=400)"
      ]
     },
     "execution_count": 87,
     "metadata": {},
     "output_type": "execute_result"
    }
   ],
   "source": [
    "model.fit(x_train,y_train)"
   ]
  },
  {
   "cell_type": "code",
   "execution_count": 88,
   "id": "generic-sleeve",
   "metadata": {},
   "outputs": [
    {
     "data": {
      "text/plain": [
       "1.0"
      ]
     },
     "execution_count": 88,
     "metadata": {},
     "output_type": "execute_result"
    }
   ],
   "source": [
    "model.score(x_test,y_test)"
   ]
  },
  {
   "cell_type": "code",
   "execution_count": 89,
   "id": "exempt-variable",
   "metadata": {},
   "outputs": [],
   "source": [
    "y_pred=model.predict(x_test)"
   ]
  },
  {
   "cell_type": "code",
   "execution_count": 90,
   "id": "outside-comedy",
   "metadata": {},
   "outputs": [],
   "source": [
    "#ahora vemos el reporte de clasificacion basico\n",
    "from sklearn.metrics import classification_report\n",
    "report=classification_report(y_test,y_pred)"
   ]
  },
  {
   "cell_type": "code",
   "execution_count": 91,
   "id": "environmental-inventory",
   "metadata": {},
   "outputs": [
    {
     "name": "stdout",
     "output_type": "stream",
     "text": [
      "              precision    recall  f1-score   support\n",
      "\n",
      "           0       1.00      1.00      1.00         3\n",
      "           1       1.00      1.00      1.00         7\n",
      "\n",
      "    accuracy                           1.00        10\n",
      "   macro avg       1.00      1.00      1.00        10\n",
      "weighted avg       1.00      1.00      1.00        10\n",
      "\n"
     ]
    }
   ],
   "source": [
    "print(report)"
   ]
  },
  {
   "cell_type": "code",
   "execution_count": 92,
   "id": "presidential-forum",
   "metadata": {},
   "outputs": [
    {
     "data": {
      "text/plain": [
       "array([0, 1])"
      ]
     },
     "execution_count": 92,
     "metadata": {},
     "output_type": "execute_result"
    }
   ],
   "source": [
    "np.unique(y_pred)"
   ]
  },
  {
   "cell_type": "code",
   "execution_count": 95,
   "id": "legal-worcester",
   "metadata": {},
   "outputs": [
    {
     "data": {
      "text/plain": [
       "<AxesSubplot:>"
      ]
     },
     "execution_count": 95,
     "metadata": {},
     "output_type": "execute_result"
    },
    {
     "data": {
      "image/png": "[encoded data removed]",
      "text/plain": [
       "<Figure size 432x288 with 2 Axes>"
      ]
     },
     "metadata": {},
     "output_type": "display_data"
    }
   ],
   "source": [
    "#ahora inspeccionamos la matriz de confusion\n",
    "from sklearn.metrics import confusion_matrix\n",
    "\n",
    "conf=confusion_matrix(y_test,y_pred)\n",
    "sns.heatmap(conf,fmt='0.2f',square=True,annot=True)"
   ]
  },
  {
   "cell_type": "code",
   "execution_count": 125,
   "id": "falling-decade",
   "metadata": {},
   "outputs": [],
   "source": [
    "#creamos la funcion de soporte\n",
    "def predecir_repitencia(edad,sexo,cursos_recup,promedio,semestre):\n",
    "    sexo=encoder.transform([sexo])\n",
    "    dat=np.array([[edad,sexo[0],cursos_recup,promedio,semestre]])\n",
    "    dat=scaler.transform(dat)\n",
    "    result=model.predict(dat)\n",
    "    if(result[0]==0):\n",
    "        print(\"NO tiene una repitencia el semestre {0}\".format(semestre))\n",
    "    else:\n",
    "        print(\"SI tiene una repitencia el semestre {0}\".format(semestre))"
   ]
  },
  {
   "cell_type": "code",
   "execution_count": 126,
   "id": "destroyed-breeding",
   "metadata": {
    "scrolled": true
   },
   "outputs": [
    {
     "name": "stdout",
     "output_type": "stream",
     "text": [
      "SI tiene una repitencia el semestre 5\n"
     ]
    }
   ],
   "source": [
    "predecir_repitencia(20,'M',0,14.2,5)"
   ]
  },
  {
   "cell_type": "code",
   "execution_count": 127,
   "id": "fatty-response",
   "metadata": {},
   "outputs": [
    {
     "data": {
      "text/plain": [
       "['modelo_clasificacion_repitencias.pkl']"
      ]
     },
     "execution_count": 127,
     "metadata": {},
     "output_type": "execute_result"
    }
   ],
   "source": [
    "#por ultimo guardamos el modelo\n",
    "import joblib\n",
    "joblib.dump(model,\"modelo_clasificacion_repitencias.pkl\")"
   ]
  },
  {
   "cell_type": "code",
   "execution_count": 129,
   "id": "former-simple",
   "metadata": {
    "collapsed": true
   },
   "outputs": [
    {
     "name": "stdout",
     "output_type": "stream",
     "text": [
      "SI tiene una repitencia el semestre 8\n"
     ]
    }
   ],
   "source": [
    "predecir_repitencia(23,'F',1,13.789,7)"
   ]
  },
  {
   "cell_type": "code",
   "execution_count": null,
   "id": "generous-twelve",
   "metadata": {},
   "outputs": [],
   "source": []
  }
 ],
 "metadata": {
  "kernelspec": {
   "display_name": "Python 3",
   "language": "python",
   "name": "python3"
  },
  "language_info": {
   "codemirror_mode": {
    "name": "ipython",
    "version": 3
   },
   "file_extension": ".py",
   "mimetype": "text/x-python",
   "name": "python",
   "nbconvert_exporter": "python",
   "pygments_lexer": "ipython3",
   "version": "3.7.9"
  }
 },
 "nbformat": 4,
 "nbformat_minor": 5
}
