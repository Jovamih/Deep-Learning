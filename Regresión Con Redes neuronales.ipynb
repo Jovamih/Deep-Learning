{
 "cells": [
  {
   "cell_type": "code",
   "execution_count": 1,
   "metadata": {},
   "outputs": [],
   "source": [
    "from tensorflow.keras.datasets import boston_housing\n",
    "import pandas as pd\n",
    "import numpy as np"
   ]
  },
  {
   "cell_type": "code",
   "execution_count": 2,
   "metadata": {},
   "outputs": [],
   "source": [
    "(train_data,train_labels),(test_data,test_labels)=boston_housing.load_data()"
   ]
  },
  {
   "cell_type": "code",
   "execution_count": 3,
   "metadata": {},
   "outputs": [
    {
     "data": {
      "text/plain": [
       "(404, 13)"
      ]
     },
     "execution_count": 3,
     "metadata": {},
     "output_type": "execute_result"
    }
   ],
   "source": [
    "train_data.shape"
   ]
  },
  {
   "cell_type": "code",
   "execution_count": 4,
   "metadata": {},
   "outputs": [],
   "source": [
    "#como los datos varian en rangos distantes procedemos a un preprocesamiento de datos\n",
    "from sklearn.preprocessing import StandardScaler\n",
    "scaler=StandardScaler()\n",
    "scaler.fit(train_data);"
   ]
  },
  {
   "cell_type": "code",
   "execution_count": 5,
   "metadata": {},
   "outputs": [],
   "source": [
    "#ojo: aplicamos el la media y varianza de los datos de entrenamiento a los datos de de test\n",
    "train_data=scaler.transform(train_data)\n",
    "test_data=scaler.transform(test_data)"
   ]
  },
  {
   "cell_type": "code",
   "execution_count": 6,
   "metadata": {},
   "outputs": [
    {
     "data": {
      "text/html": [
       "<div>\n",
       "<style scoped>\n",
       "    .dataframe tbody tr th:only-of-type {\n",
       "        vertical-align: middle;\n",
       "    }\n",
       "\n",
       "    .dataframe tbody tr th {\n",
       "        vertical-align: top;\n",
       "    }\n",
       "\n",
       "    .dataframe thead th {\n",
       "        text-align: right;\n",
       "    }\n",
       "</style>\n",
       "<table border=\"1\" class=\"dataframe\">\n",
       "  <thead>\n",
       "    <tr style=\"text-align: right;\">\n",
       "      <th></th>\n",
       "      <th>0</th>\n",
       "      <th>1</th>\n",
       "      <th>2</th>\n",
       "      <th>3</th>\n",
       "      <th>4</th>\n",
       "      <th>5</th>\n",
       "      <th>6</th>\n",
       "      <th>7</th>\n",
       "      <th>8</th>\n",
       "      <th>9</th>\n",
       "      <th>10</th>\n",
       "      <th>11</th>\n",
       "      <th>12</th>\n",
       "    </tr>\n",
       "  </thead>\n",
       "  <tbody>\n",
       "    <tr>\n",
       "      <th>amin</th>\n",
       "      <td>-0.405101</td>\n",
       "      <td>-0.483615</td>\n",
       "      <td>-1.564696</td>\n",
       "      <td>-0.256833</td>\n",
       "      <td>-1.471269</td>\n",
       "      <td>-3.817250</td>\n",
       "      <td>-2.369042</td>\n",
       "      <td>-1.287503</td>\n",
       "      <td>-0.971569</td>\n",
       "      <td>-1.311311</td>\n",
       "      <td>-2.673752</td>\n",
       "      <td>-3.771101</td>\n",
       "      <td>-1.519664</td>\n",
       "    </tr>\n",
       "    <tr>\n",
       "      <th>amax</th>\n",
       "      <td>9.234847</td>\n",
       "      <td>3.728990</td>\n",
       "      <td>2.445374</td>\n",
       "      <td>3.893584</td>\n",
       "      <td>2.677335</td>\n",
       "      <td>3.467186</td>\n",
       "      <td>1.110488</td>\n",
       "      <td>3.437406</td>\n",
       "      <td>1.675886</td>\n",
       "      <td>1.836097</td>\n",
       "      <td>1.603531</td>\n",
       "      <td>0.448077</td>\n",
       "      <td>3.482019</td>\n",
       "    </tr>\n",
       "  </tbody>\n",
       "</table>\n",
       "</div>"
      ],
      "text/plain": [
       "            0         1         2         3         4         5         6   \\\n",
       "amin -0.405101 -0.483615 -1.564696 -0.256833 -1.471269 -3.817250 -2.369042   \n",
       "amax  9.234847  3.728990  2.445374  3.893584  2.677335  3.467186  1.110488   \n",
       "\n",
       "            7         8         9         10        11        12  \n",
       "amin -1.287503 -0.971569 -1.311311 -2.673752 -3.771101 -1.519664  \n",
       "amax  3.437406  1.675886  1.836097  1.603531  0.448077  3.482019  "
      ]
     },
     "execution_count": 6,
     "metadata": {},
     "output_type": "execute_result"
    }
   ],
   "source": [
    "pd.DataFrame(train_data).aggregate(func=[np.min,np.max])"
   ]
  },
  {
   "cell_type": "code",
   "execution_count": 7,
   "metadata": {},
   "outputs": [],
   "source": [
    "#ahora los que haremos es construir el modelo\n",
    "from tensorflow.keras.models import Sequential\n",
    "from tensorflow.keras.layers import Dense\n",
    "def build_model():\n",
    "    \"\"\"\n",
    "    construimos el modelo con dos capas ocultas de 64 neuronas c/u\n",
    "    \"\"\"\n",
    "    model=Sequential()\n",
    "    model.add(Dense(64, activation='relu',input_shape=(13,)))\n",
    "    model.add(Dense(64,activation='relu'))\n",
    "    model.add(Dense(1)) #esta ultima capa en la regresion no rquire una funcion de activacion por ser un problema de regresion\n",
    "    \n",
    "    model.compile(optimizer='rmsprop',\n",
    "                 loss='mse',\n",
    "                 metrics=['mae']\n",
    "                 )\n",
    "    return model"
   ]
  },
  {
   "cell_type": "code",
   "execution_count": 8,
   "metadata": {},
   "outputs": [],
   "source": [
    "model=build_model()"
   ]
  },
  {
   "cell_type": "code",
   "execution_count": 9,
   "metadata": {},
   "outputs": [
    {
     "name": "stdout",
     "output_type": "stream",
     "text": [
      "Model: \"sequential\"\n",
      "_________________________________________________________________\n",
      "Layer (type)                 Output Shape              Param #   \n",
      "=================================================================\n",
      "dense (Dense)                (None, 64)                896       \n",
      "_________________________________________________________________\n",
      "dense_1 (Dense)              (None, 64)                4160      \n",
      "_________________________________________________________________\n",
      "dense_2 (Dense)              (None, 1)                 65        \n",
      "=================================================================\n",
      "Total params: 5,121\n",
      "Trainable params: 5,121\n",
      "Non-trainable params: 0\n",
      "_________________________________________________________________\n"
     ]
    }
   ],
   "source": [
    "model.summary()"
   ]
  },
  {
   "cell_type": "code",
   "execution_count": 10,
   "metadata": {},
   "outputs": [
    {
     "data": {
      "image/png": "[encoded data removed]",
      "text/plain": [
       "<IPython.core.display.Image object>"
      ]
     },
     "execution_count": 10,
     "metadata": {},
     "output_type": "execute_result"
    }
   ],
   "source": [
    "from tensorflow.keras.utils import plot_model\n",
    "plot_model(model,show_shapes=True)"
   ]
  },
  {
   "cell_type": "code",
   "execution_count": 11,
   "metadata": {},
   "outputs": [],
   "source": [
    "#ahora separamos los datos de entrenamiento y validacion\n",
    "x_train=train_data[:100]\n",
    "y_train=train_labels[:100]\n",
    "#los datos de validacion\n",
    "x_val=train_data[100:]\n",
    "y_val=train_data[100:]"
   ]
  },
  {
   "cell_type": "code",
   "execution_count": 12,
   "metadata": {},
   "outputs": [
    {
     "name": "stdout",
     "output_type": "stream",
     "text": [
      "Epoch 1/10\n",
      "100/100 [==============================] - 0s 5ms/step - loss: 413.3751 - mae: 17.4631 - val_loss: 93.9601 - val_mae: 9.2395\n",
      "Epoch 2/10\n",
      "100/100 [==============================] - 0s 4ms/step - loss: 131.6984 - mae: 8.3056 - val_loss: 344.0619 - val_mae: 17.6383\n",
      "Epoch 3/10\n",
      "100/100 [==============================] - 0s 4ms/step - loss: 56.8036 - mae: 4.9153 - val_loss: 443.7143 - val_mae: 20.0039\n",
      "Epoch 4/10\n",
      "100/100 [==============================] - 0s 4ms/step - loss: 44.0942 - mae: 4.3185 - val_loss: 445.5193 - val_mae: 20.0081\n",
      "Epoch 5/10\n",
      "100/100 [==============================] - 0s 4ms/step - loss: 33.7031 - mae: 3.7539 - val_loss: 480.1577 - val_mae: 20.7030\n",
      "Epoch 6/10\n",
      "100/100 [==============================] - 0s 4ms/step - loss: 25.1874 - mae: 3.0463 - val_loss: 496.3949 - val_mae: 21.0010\n",
      "Epoch 7/10\n",
      "100/100 [==============================] - 0s 5ms/step - loss: 20.4032 - mae: 2.7558 - val_loss: 540.6732 - val_mae: 21.8537\n",
      "Epoch 8/10\n",
      "100/100 [==============================] - 0s 4ms/step - loss: 17.0575 - mae: 2.5880 - val_loss: 537.1894 - val_mae: 21.7346\n",
      "Epoch 9/10\n",
      "100/100 [==============================] - 0s 4ms/step - loss: 14.7057 - mae: 2.2563 - val_loss: 553.0938 - val_mae: 22.0236\n",
      "Epoch 10/10\n",
      "100/100 [==============================] - 0s 4ms/step - loss: 12.8631 - mae: 2.2639 - val_loss: 544.0527 - val_mae: 21.7966\n"
     ]
    }
   ],
   "source": [
    "history=model.fit(x_train,y_train,epochs=10,batch_size=1,validation_data=(x_val,y_val))"
   ]
  },
  {
   "cell_type": "code",
   "execution_count": 13,
   "metadata": {},
   "outputs": [
    {
     "name": "stdout",
     "output_type": "stream",
     "text": [
      "4/4 [==============================] - 0s 3ms/step - loss: 23.6460 - mae: 3.5422\n"
     ]
    },
    {
     "data": {
      "text/plain": [
       "[23.64604949951172, 3.54221773147583]"
      ]
     },
     "execution_count": 13,
     "metadata": {},
     "output_type": "execute_result"
    }
   ],
   "source": [
    "model.evaluate(test_data,test_labels)"
   ]
  },
  {
   "cell_type": "code",
   "execution_count": 14,
   "metadata": {},
   "outputs": [],
   "source": [
    "%matplotlib inline\n",
    "import matplotlib.pyplot as plt\n",
    "import seaborn as sns; sns.set()\n"
   ]
  },
  {
   "cell_type": "code",
   "execution_count": 15,
   "metadata": {},
   "outputs": [
    {
     "data": {
      "text/plain": [
       "dict_keys(['loss', 'mae', 'val_loss', 'val_mae'])"
      ]
     },
     "execution_count": 15,
     "metadata": {},
     "output_type": "execute_result"
    }
   ],
   "source": [
    "history.history.keys()"
   ]
  },
  {
   "cell_type": "code",
   "execution_count": 16,
   "metadata": {},
   "outputs": [
    {
     "data": {
      "text/plain": [
       "[<matplotlib.lines.Line2D at 0x1d940906d48>]"
      ]
     },
     "execution_count": 16,
     "metadata": {},
     "output_type": "execute_result"
    },
    {
     "data": {
      "image/png": "[encoded data removed]",
      "text/plain": [
       "<Figure size 432x288 with 1 Axes>"
      ]
     },
     "metadata": {},
     "output_type": "display_data"
    }
   ],
   "source": [
    "plt.plot(range(1,len(history.history['val_mae'])+1),history.history['val_mae'],color='red')\n",
    "plt.plot(range(1,len(history.history['val_mae'])+1),history.history['mae'],color='green')"
   ]
  },
  {
   "cell_type": "code",
   "execution_count": 25,
   "metadata": {},
   "outputs": [],
   "source": [
    "#como los datos destinados a entrenamiento y validacion son pepqueños optamos por realizar un validacion cruzada\n",
    "from tensorflow.keras.wrappers.scikit_learn import KerasRegressor\n",
    "from sklearn.model_selection import cross_validate\n",
    "from sklearn.model_selection import KFold"
   ]
  },
  {
   "cell_type": "code",
   "execution_count": 26,
   "metadata": {},
   "outputs": [],
   "source": [
    "cv=KFold(n_splits=10,shuffle=True,random_state=42)"
   ]
  },
  {
   "cell_type": "code",
   "execution_count": 29,
   "metadata": {},
   "outputs": [],
   "source": [
    "model=  build_model()\n",
    "model_learn=KerasRegressor(build_fn=build_model,epochs=20,batch_size=16)"
   ]
  },
  {
   "cell_type": "code",
   "execution_count": 38,
   "metadata": {},
   "outputs": [],
   "source": [
    "scores=cross_validate(model_learn,train_data,train_labels,\n",
    "                     cv=cv,\n",
    "                      n_jobs=-1,\n",
    "                      scoring=['neg_mean_absolute_error'],\n",
    "                      return_train_score=True\n",
    "                     )"
   ]
  },
  {
   "cell_type": "code",
   "execution_count": 40,
   "metadata": {},
   "outputs": [
    {
     "data": {
      "text/plain": [
       "dict_keys(['fit_time', 'score_time', 'test_neg_mean_absolute_error', 'train_neg_mean_absolute_error'])"
      ]
     },
     "execution_count": 40,
     "metadata": {},
     "output_type": "execute_result"
    }
   ],
   "source": [
    "scores.keys()"
   ]
  },
  {
   "cell_type": "code",
   "execution_count": 41,
   "metadata": {},
   "outputs": [
    {
     "data": {
      "text/plain": [
       "-2.5337011628616146"
      ]
     },
     "execution_count": 41,
     "metadata": {},
     "output_type": "execute_result"
    }
   ],
   "source": [
    "scores['test_neg_mean_absolute_error'].mean()"
   ]
  },
  {
   "cell_type": "code",
   "execution_count": 42,
   "metadata": {},
   "outputs": [
    {
     "data": {
      "text/plain": [
       "-2.2520694999539215"
      ]
     },
     "execution_count": 42,
     "metadata": {},
     "output_type": "execute_result"
    }
   ],
   "source": [
    "scores['train_neg_mean_absolute_error'].mean()"
   ]
  },
  {
   "cell_type": "code",
   "execution_count": 43,
   "metadata": {},
   "outputs": [
    {
     "data": {
      "text/plain": [
       "array([-2.37629672, -2.17569093, -2.41434335, -2.25599219, -2.22480643,\n",
       "       -2.17467891, -2.13952828, -2.29115094, -2.27289952, -2.19530773])"
      ]
     },
     "execution_count": 43,
     "metadata": {},
     "output_type": "execute_result"
    }
   ],
   "source": [
    "scores['train_neg_mean_absolute_error']"
   ]
  },
  {
   "cell_type": "code",
   "execution_count": null,
   "metadata": {},
   "outputs": [],
   "source": []
  }
 ],
 "metadata": {
  "kernelspec": {
   "display_name": "Python 3",
   "language": "python",
   "name": "python3"
  },
  "language_info": {
   "codemirror_mode": {
    "name": "ipython",
    "version": 3
   },
   "file_extension": ".py",
   "mimetype": "text/x-python",
   "name": "python",
   "nbconvert_exporter": "python",
   "pygments_lexer": "ipython3",
   "version": "3.7.9"
  }
 },
 "nbformat": 4,
 "nbformat_minor": 4
}
