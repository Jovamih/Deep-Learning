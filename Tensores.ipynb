{
 "cells": [
  {
   "cell_type": "code",
   "execution_count": 1,
   "metadata": {},
   "outputs": [],
   "source": [
    "%matplotlib inline\n",
    "import numpy as np "
   ]
  },
  {
   "cell_type": "code",
   "execution_count": 21,
   "metadata": {},
   "outputs": [],
   "source": [
    "#probamos la suma y multiplicacion punto a punto de los vectores\n",
    "v1=np.random.randint(500,size=(10,20))\n",
    "v2=np.random.randint(-100,100,size=(20,10 ))"
   ]
  },
  {
   "cell_type": "code",
   "execution_count": 11,
   "metadata": {},
   "outputs": [],
   "source": [
    "z=np.dot(v1,v2)"
   ]
  },
  {
   "cell_type": "code",
   "execution_count": 23,
   "metadata": {},
   "outputs": [
    {
     "data": {
      "text/plain": [
       "array([[ 19, 275, 214, 271, 176, 197, 136, 142, 359, 277, 419, 441,  29,\n",
       "        491, 132, 236, 471, 463,  14, 228, 196,  76, 412, 331,  24, 461,\n",
       "        376, 465,  52,   8, 378, 117, 227, 122,  27, 464, 239, 247, 420,\n",
       "        366,  29, 435, 289, 437,   2, 112,  96, 199,  13, 408, 253,  51,\n",
       "        435,  86, 265, 257, 113, 191, 304, 112, 349, 326, 255, 272, 332,\n",
       "        142,   7,  46, 236, 321, 285, 476, 368,  79, 160, 141, 308, 487,\n",
       "        303, 279,   1,  66,  28, 481,  78, 403, 310, 164,  11, 153, 390,\n",
       "         12, 465, 418, 457,  78, 177, 415,  34, 214, 108, 214, 434,  41,\n",
       "        125,  56, 276, 278,  64,  67,  44, 462, 144, 488, 431, 289, 331,\n",
       "         62, 147, 450, 429, 389, 469, 494, 292, 474, 173, 104, 269, 261,\n",
       "        361, 146,  85, 284, 459, 433, 161,  49, 323, 294, 278, 213,  75,\n",
       "        187,   5, 301, 455, 399, 479, 175,  64, 330, 206, 118,  83, 436,\n",
       "        114, 120,  15, 459, 496, 266, 131, 433, 210, 164, 196,   9, 118,\n",
       "          2, 129, 262, 450,  97,  31, 388, 167, 168, 228, 299,  70, 436,\n",
       "        306, 281, 347, 165, 209, 368, 456,  14, 267, 306, 389,  10, 328,\n",
       "        421,  25, 336, 294, 144]])"
      ]
     },
     "execution_count": 23,
     "metadata": {},
     "output_type": "execute_result"
    }
   ],
   "source": [
    "v1.reshape((1,200))"
   ]
  },
  {
   "cell_type": "code",
   "execution_count": 28,
   "metadata": {},
   "outputs": [
    {
     "name": "stdout",
     "output_type": "stream",
     "text": [
      "(20, 10)\n",
      "(10, 20)\n"
     ]
    }
   ],
   "source": [
    "#probamos una transposicion  ahhora mismo \n",
    "print(v2.shape)\n",
    "v2=np.transpose(v2)\n",
    "print(v2.shape)"
   ]
  },
  {
   "cell_type": "code",
   "execution_count": 29,
   "metadata": {},
   "outputs": [],
   "source": [
    "#generamos los zeros \n",
    "x=np.zeros((10,10))"
   ]
  },
  {
   "cell_type": "code",
   "execution_count": 34,
   "metadata": {},
   "outputs": [
    {
     "data": {
      "text/plain": [
       "array([[0., 0., 0., 0., 0., 0., 0., 0., 0., 0.],\n",
       "       [0., 0., 0., 0., 0., 0., 0., 0., 0., 0.],\n",
       "       [0., 0., 0., 0., 0., 0., 0., 0., 0., 0.],\n",
       "       [0., 0., 0., 0., 0., 0., 0., 0., 0., 0.],\n",
       "       [0., 0., 0., 0., 0., 0., 0., 0., 0., 0.]])"
      ]
     },
     "execution_count": 34,
     "metadata": {},
     "output_type": "execute_result"
    }
   ],
   "source": [
    "x[:5]"
   ]
  },
  {
   "cell_type": "code",
   "execution_count": null,
   "metadata": {},
   "outputs": [],
   "source": []
  }
 ],
 "metadata": {
  "kernelspec": {
   "display_name": "Python 3",
   "language": "python",
   "name": "python3"
  },
  "language_info": {
   "codemirror_mode": {
    "name": "ipython",
    "version": 3
   },
   "file_extension": ".py",
   "mimetype": "text/x-python",
   "name": "python",
   "nbconvert_exporter": "python",
   "pygments_lexer": "ipython3",
   "version": "3.7.9"
  }
 },
 "nbformat": 4,
 "nbformat_minor": 4
}
