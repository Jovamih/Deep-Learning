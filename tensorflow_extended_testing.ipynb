{
 "cells": [
  {
   "cell_type": "code",
   "execution_count": 17,
   "id": "nutritional-highway",
   "metadata": {},
   "outputs": [],
   "source": [
    "import tensorflow_data_validation as tfdv\n",
    "import tensorflow_transform as tft\n",
    "import tensorflow_transform.beam as tft_beam\n"
   ]
  },
  {
   "cell_type": "code",
   "execution_count": 15,
   "id": "environmental-nylon",
   "metadata": {},
   "outputs": [],
   "source": [
    "#alternativamente se puede importar el componente tfx correspondiente.\n",
    "\n",
    "#componentes para la ingesta de datos\n",
    "\n",
    "#para la validacion de datos\n",
    "from tfx.components import StatisticsGen\n",
    "from tfx.components import SchemaGen\n",
    "from tfx.components import ExampleValidator\n",
    "#para el preprocesamiento de datos\n",
    "from tfx.components import Transform\n",
    "#para el entrenamiento del modelo\n",
    "from tfx.components import Trainer\n",
    "#para el analisis y validacion del modelo\n",
    "from tfx.components import Evaluator #evaluar el modelo\n",
    "from tfx.components import ResolverNode #comprobar los modelos previamente entrenados\n",
    "from tfx.components import Pusher #para el desplique del modelo\n"
   ]
  },
  {
   "cell_type": "code",
   "execution_count": 16,
   "id": "adopted-attention",
   "metadata": {},
   "outputs": [],
   "source": [
    "\n",
    "from tfx.orchestration.experimental.interactive.interactive_context import InteractiveContext"
   ]
  },
  {
   "cell_type": "code",
   "execution_count": 18,
   "id": "beautiful-aerospace",
   "metadata": {},
   "outputs": [
    {
     "name": "stderr",
     "output_type": "stream",
     "text": [
      "WARNING:absl:InteractiveContext pipeline_root argument not provided: using temporary directory C:\\Users\\Public\\Documents\\Wondershare\\CreatorTemp\\tfx-interactive-2021-04-28T22_14_48.540280-d6otnhs9 as root for pipeline outputs.\n",
      "WARNING:absl:InteractiveContext metadata_connection_config not provided: using SQLite ML Metadata database at C:\\Users\\Public\\Documents\\Wondershare\\CreatorTemp\\tfx-interactive-2021-04-28T22_14_48.540280-d6otnhs9\\metadata.sqlite.\n"
     ]
    }
   ],
   "source": [
    "context=InteractiveContext()"
   ]
  },
  {
   "cell_type": "code",
   "execution_count": null,
   "id": "liable-lucas",
   "metadata": {},
   "outputs": [],
   "source": []
  }
 ],
 "metadata": {
  "kernelspec": {
   "display_name": "Python 3",
   "language": "python",
   "name": "python3"
  },
  "language_info": {
   "codemirror_mode": {
    "name": "ipython",
    "version": 3
   },
   "file_extension": ".py",
   "mimetype": "text/x-python",
   "name": "python",
   "nbconvert_exporter": "python",
   "pygments_lexer": "ipython3",
   "version": "3.7.1"
  }
 },
 "nbformat": 4,
 "nbformat_minor": 5
}
