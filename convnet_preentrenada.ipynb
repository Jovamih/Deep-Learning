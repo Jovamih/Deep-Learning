{
 "cells": [
  {
   "cell_type": "code",
   "execution_count": 1,
   "id": "emotional-horizon",
   "metadata": {},
   "outputs": [],
   "source": [
    "from keras.applications import VGG16"
   ]
  },
  {
   "cell_type": "code",
   "execution_count": 3,
   "id": "exempt-small",
   "metadata": {},
   "outputs": [
    {
     "name": "stdout",
     "output_type": "stream",
     "text": [
      "Downloading data from https://storage.googleapis.com/tensorflow/keras-applications/vgg16/vgg16_weights_tf_dim_ordering_tf_kernels_notop.h5\n",
      "58892288/58889256 [==============================] - 97s 2us/step\n"
     ]
    }
   ],
   "source": [
    "conv_base=VGG16(weights=\"imagenet\",\n",
    "                include_top=False,\n",
    "                input_shape=(150,150,3)\n",
    "               )"
   ]
  },
  {
   "cell_type": "code",
   "execution_count": 4,
   "id": "dressed-welding",
   "metadata": {},
   "outputs": [
    {
     "name": "stdout",
     "output_type": "stream",
     "text": [
      "Model: \"vgg16\"\n",
      "_________________________________________________________________\n",
      "Layer (type)                 Output Shape              Param #   \n",
      "=================================================================\n",
      "input_1 (InputLayer)         [(None, 150, 150, 3)]     0         \n",
      "_________________________________________________________________\n",
      "block1_conv1 (Conv2D)        (None, 150, 150, 64)      1792      \n",
      "_________________________________________________________________\n",
      "block1_conv2 (Conv2D)        (None, 150, 150, 64)      36928     \n",
      "_________________________________________________________________\n",
      "block1_pool (MaxPooling2D)   (None, 75, 75, 64)        0         \n",
      "_________________________________________________________________\n",
      "block2_conv1 (Conv2D)        (None, 75, 75, 128)       73856     \n",
      "_________________________________________________________________\n",
      "block2_conv2 (Conv2D)        (None, 75, 75, 128)       147584    \n",
      "_________________________________________________________________\n",
      "block2_pool (MaxPooling2D)   (None, 37, 37, 128)       0         \n",
      "_________________________________________________________________\n",
      "block3_conv1 (Conv2D)        (None, 37, 37, 256)       295168    \n",
      "_________________________________________________________________\n",
      "block3_conv2 (Conv2D)        (None, 37, 37, 256)       590080    \n",
      "_________________________________________________________________\n",
      "block3_conv3 (Conv2D)        (None, 37, 37, 256)       590080    \n",
      "_________________________________________________________________\n",
      "block3_pool (MaxPooling2D)   (None, 18, 18, 256)       0         \n",
      "_________________________________________________________________\n",
      "block4_conv1 (Conv2D)        (None, 18, 18, 512)       1180160   \n",
      "_________________________________________________________________\n",
      "block4_conv2 (Conv2D)        (None, 18, 18, 512)       2359808   \n",
      "_________________________________________________________________\n",
      "block4_conv3 (Conv2D)        (None, 18, 18, 512)       2359808   \n",
      "_________________________________________________________________\n",
      "block4_pool (MaxPooling2D)   (None, 9, 9, 512)         0         \n",
      "_________________________________________________________________\n",
      "block5_conv1 (Conv2D)        (None, 9, 9, 512)         2359808   \n",
      "_________________________________________________________________\n",
      "block5_conv2 (Conv2D)        (None, 9, 9, 512)         2359808   \n",
      "_________________________________________________________________\n",
      "block5_conv3 (Conv2D)        (None, 9, 9, 512)         2359808   \n",
      "_________________________________________________________________\n",
      "block5_pool (MaxPooling2D)   (None, 4, 4, 512)         0         \n",
      "=================================================================\n",
      "Total params: 14,714,688\n",
      "Trainable params: 14,714,688\n",
      "Non-trainable params: 0\n",
      "_________________________________________________________________\n"
     ]
    }
   ],
   "source": [
    "conv_base.summary()"
   ]
  },
  {
   "cell_type": "code",
   "execution_count": 6,
   "id": "passing-character",
   "metadata": {},
   "outputs": [],
   "source": [
    "#ahora congelamos el modelo\n",
    "conv_base.trainable=False"
   ]
  },
  {
   "cell_type": "code",
   "execution_count": 8,
   "id": "guided-advice",
   "metadata": {},
   "outputs": [],
   "source": [
    "#creamos un nuevo modelo\n",
    "import tensorflow as tf\n",
    "def build_model():\n",
    "    model=tf.keras.Sequential()\n",
    "    model.add(conv_base)\n",
    "    model.add(tf.keras.layers.Flatten())\n",
    "    model.add(tf.keras.layers.Dense(512,activation=\"relu\"))\n",
    "    model.add(tf.keras.layers.Dense(1,activation=\"sigmoid\"))\n",
    "    #compilacion del modelo\n",
    "    model.compile(loss=\"binary_crossentropy\",\n",
    "                  optimizer=tf.keras.optimizers.RMSprop(lr=2e-5),\n",
    "                  metrics=[\"accuracy\"]\n",
    "                 )\n",
    "    return model"
   ]
  },
  {
   "cell_type": "code",
   "execution_count": 9,
   "id": "large-coffee",
   "metadata": {},
   "outputs": [
    {
     "data": {
      "text/plain": [
       "<tensorflow.python.keras.engine.sequential.Sequential at 0x2c2e659f208>"
      ]
     },
     "execution_count": 9,
     "metadata": {},
     "output_type": "execute_result"
    }
   ],
   "source": [
    "build_model()"
   ]
  },
  {
   "cell_type": "code",
   "execution_count": 10,
   "id": "interested-complexity",
   "metadata": {},
   "outputs": [],
   "source": [
    "import os\n",
    "#configuracion de rutas de acceso\n",
    "path_images=r\"C:\\Users\\JOHAN\\Downloads\\dogs-vs-cats_dest\"\n",
    "\n",
    "train_images=os.path.join(path_images,\"train\")\n",
    "test_images=os.path.join(path_images,\"test\")\n",
    "val_images=os.path.join(path_images,\"val\")"
   ]
  },
  {
   "cell_type": "code",
   "execution_count": 12,
   "id": "humanitarian-growth",
   "metadata": {},
   "outputs": [],
   "source": [
    "#configuracion del generador de imagenes\n",
    "from keras.preprocessing.image import ImageDataGenerator\n"
   ]
  },
  {
   "cell_type": "code",
   "execution_count": 14,
   "id": "ranging-anxiety",
   "metadata": {},
   "outputs": [],
   "source": [
    "train_datagen=ImageDataGenerator(\n",
    "    rescale=1.0/255,\n",
    "    rotation_range=40,\n",
    "    width_shift_range=0.2,\n",
    "    height_shift_range=0.2,\n",
    "    shear_range=0.2,\n",
    "    zoom_range=0.2,\n",
    "    horizontal_flip=True,\n",
    "    fill_mode=\"nearest\")"
   ]
  },
  {
   "cell_type": "code",
   "execution_count": 22,
   "id": "right-child",
   "metadata": {},
   "outputs": [],
   "source": [
    "val_datagen=ImageDataGenerator(rescale=1.0/255)"
   ]
  },
  {
   "cell_type": "code",
   "execution_count": 23,
   "id": "usual-country",
   "metadata": {},
   "outputs": [
    {
     "name": "stdout",
     "output_type": "stream",
     "text": [
      "Found 2000 images belonging to 2 classes.\n",
      "Found 1000 images belonging to 2 classes.\n",
      "Found 1000 images belonging to 2 classes.\n"
     ]
    }
   ],
   "source": [
    "#aplicacion de configuracion\n",
    "batch_size=20\n",
    "train_generator=train_datagen.flow_from_directory(\n",
    "    train_images,\n",
    "    target_size=(150,150),\n",
    "    batch_size=batch_size,\n",
    "    class_mode=\"binary\"\n",
    "    )\n",
    "\n",
    "validation_generator=val_datagen.flow_from_directory(\n",
    "    val_images,\n",
    "    target_size=(150,150),\n",
    "    batch_size=batch_size,\n",
    "    class_mode=\"binary\"   \n",
    "    )\n",
    "#validacion en los datos de testeo\n",
    "test_generator=ImageDataGenerator(rescale=1.0/255).flow_from_directory(\n",
    "    test_images,\n",
    "    target_size=(150,150),\n",
    "    batch_size=batch_size,\n",
    "    class_mode=\"binary\"   \n",
    "    )"
   ]
  },
  {
   "cell_type": "code",
   "execution_count": 20,
   "id": "classical-valuation",
   "metadata": {},
   "outputs": [
    {
     "name": "stdout",
     "output_type": "stream",
     "text": [
      "WARNING:tensorflow:From <ipython-input-20-81b4c7d83ffe>:11: Model.fit_generator (from tensorflow.python.keras.engine.training) is deprecated and will be removed in a future version.\n",
      "Instructions for updating:\n",
      "Please use Model.fit, which supports generators.\n",
      "Epoch 1/5\n",
      "100/100 [==============================] - 244s 2s/step - loss: 0.5552 - accuracy: 0.7190 - val_loss: 0.4208 - val_accuracy: 0.8120\n",
      "Epoch 2/5\n",
      "100/100 [==============================] - 247s 2s/step - loss: 0.4564 - accuracy: 0.7995 - val_loss: 0.3523 - val_accuracy: 0.8590\n",
      "Epoch 3/5\n",
      "100/100 [==============================] - 245s 2s/step - loss: 0.4107 - accuracy: 0.8135 - val_loss: 0.3056 - val_accuracy: 0.8800\n",
      "Epoch 4/5\n",
      "100/100 [==============================] - 243s 2s/step - loss: 0.3797 - accuracy: 0.8400 - val_loss: 0.2913 - val_accuracy: 0.8810\n",
      "Epoch 5/5\n",
      "100/100 [==============================] - 245s 2s/step - loss: 0.3823 - accuracy: 0.8275 - val_loss: 0.2859 - val_accuracy: 0.8860\n"
     ]
    }
   ],
   "source": [
    "#creacion y entrenamiento del modelo\n",
    "\n",
    "model_conv=build_model()\n",
    "\n",
    "history=model_conv.fit_generator(\n",
    "    train_generator,\n",
    "    steps_per_epoch=train_generator.samples//batch_size,\n",
    "    validation_data=validation_generator,\n",
    "    validation_steps=validation_generator.samples//batch_size,\n",
    "    \n",
    "    epochs=5 #debido a que uso un CPU\n",
    "    )"
   ]
  },
  {
   "cell_type": "code",
   "execution_count": 26,
   "id": "needed-illinois",
   "metadata": {},
   "outputs": [],
   "source": [
    "%matplotlib inline\n",
    "import matplotlib.pyplot as plt\n",
    "#mostramos los resultados\n",
    "def plot_loss(history):\n",
    "    epochs=range(1,len(history[\"loss\"])+1)\n",
    "    \n",
    "    plt.plot(epochs,history[\"loss\"],\"bo-\",label=\"train\")\n",
    "    plt.plot(epochs,history[\"val_loss\"],\"ro-\",label=\"val\")\n",
    "    plt.xlabel(\"epochs\")\n",
    "    plt.ylabel(\"loss\")\n",
    "    plt.legend(loc=\"best\")\n",
    "    plt.grid(True)\n",
    "    plt.show()\n",
    "    \n",
    "def plot_metrics(history):\n",
    "    epochs=range(1,len(history[\"accuracy\"])+1)\n",
    "    \n",
    "    plt.plot(epochs,history[\"accuracy\"],\"bo-\",label=\"train\")\n",
    "    plt.plot(epochs,history[\"val_accuracy\"],\"ro-\",label=\"val\")\n",
    "    plt.xlabel(\"epochs\")\n",
    "    plt.ylabel(\"accuracy\")\n",
    "    plt.legend(loc=\"best\")\n",
    "    plt.grid(True)\n",
    "    plt.show()"
   ]
  },
  {
   "cell_type": "code",
   "execution_count": 27,
   "id": "constitutional-processor",
   "metadata": {},
   "outputs": [
    {
     "data": {
      "image/png": "[encoded data removed]",
      "text/plain": [
       "<Figure size 432x288 with 1 Axes>"
      ]
     },
     "metadata": {
      "needs_background": "light"
     },
     "output_type": "display_data"
    },
    {
     "data": {
      "image/png": "[encoded data removed]",
      "text/plain": [
       "<Figure size 432x288 with 1 Axes>"
      ]
     },
     "metadata": {
      "needs_background": "light"
     },
     "output_type": "display_data"
    }
   ],
   "source": [
    "plot_loss(history.history)\n",
    "plot_metrics(history.history)"
   ]
  },
  {
   "cell_type": "code",
   "execution_count": 31,
   "id": "adapted-gilbert",
   "metadata": {},
   "outputs": [
    {
     "name": "stdout",
     "output_type": "stream",
     "text": [
      "50/50 [==============================] - 77s 2s/step - loss: 0.3020 - accuracy: 0.8690\n"
     ]
    },
    {
     "data": {
      "text/plain": [
       "[0.3020208775997162, 0.8690000176429749]"
      ]
     },
     "execution_count": 31,
     "metadata": {},
     "output_type": "execute_result"
    }
   ],
   "source": [
    "model_conv.evaluate(test_generator,steps=50)"
   ]
  },
  {
   "cell_type": "code",
   "execution_count": 32,
   "id": "developmental-sunrise",
   "metadata": {},
   "outputs": [],
   "source": [
    "#como los resultados se ven ruidosos aplicaremos un suavizadode curvasa\n",
    "#con las medias moviles exponenciales\n",
    "\n",
    "def smooth_curve(points,factor=0.8):\n",
    "    smoothed_points=[]\n",
    "    for point in points:\n",
    "        if smoothed_points:\n",
    "            previous=smoothed_points[-1]\n",
    "            smoothed_points.append(previous*factor+point*(1-factor))\n",
    "        else:\n",
    "            smoothed_points.append(point)\n",
    "    return smoothed_points"
   ]
  },
  {
   "cell_type": "code",
   "execution_count": 37,
   "id": "mighty-blackberry",
   "metadata": {},
   "outputs": [],
   "source": [
    "hst={\n",
    "    \"accuracy\":smooth_curve(history.history[\"accuracy\"]),\n",
    "    \"val_accuracy\":smooth_curve(history.history[\"val_accuracy\"]),\n",
    "    \"loss\":smooth_curve(history.history[\"loss\"]),\n",
    "    \"val_loss\":smooth_curve(history.history[\"val_loss\"]),\n",
    "}"
   ]
  },
  {
   "cell_type": "code",
   "execution_count": 38,
   "id": "institutional-people",
   "metadata": {},
   "outputs": [
    {
     "data": {
      "image/png": "[encoded data removed]",
      "text/plain": [
       "<Figure size 432x288 with 1 Axes>"
      ]
     },
     "metadata": {
      "needs_background": "light"
     },
     "output_type": "display_data"
    }
   ],
   "source": [
    "plot_loss(hst)"
   ]
  },
  {
   "cell_type": "code",
   "execution_count": 39,
   "id": "passive-watts",
   "metadata": {},
   "outputs": [
    {
     "data": {
      "image/png": "[encoded data removed]",
      "text/plain": [
       "<Figure size 432x288 with 1 Axes>"
      ]
     },
     "metadata": {
      "needs_background": "light"
     },
     "output_type": "display_data"
    }
   ],
   "source": [
    "plot_metrics(hst)"
   ]
  },
  {
   "cell_type": "code",
   "execution_count": 40,
   "id": "accessory-mounting",
   "metadata": {},
   "outputs": [],
   "source": [
    "#guardamos el modelo de 5 epochs\n",
    "model_conv.save(\"cats_and_dogs_classifier.h5\")"
   ]
  },
  {
   "cell_type": "code",
   "execution_count": 41,
   "id": "naval-candy",
   "metadata": {},
   "outputs": [
    {
     "name": "stdout",
     "output_type": "stream",
     "text": [
      "Model: \"sequential_3\"\n",
      "_________________________________________________________________\n",
      "Layer (type)                 Output Shape              Param #   \n",
      "=================================================================\n",
      "vgg16 (Functional)           (None, 4, 4, 512)         14714688  \n",
      "_________________________________________________________________\n",
      "flatten_3 (Flatten)          (None, 8192)              0         \n",
      "_________________________________________________________________\n",
      "dense_6 (Dense)              (None, 512)               4194816   \n",
      "_________________________________________________________________\n",
      "dense_7 (Dense)              (None, 1)                 513       \n",
      "=================================================================\n",
      "Total params: 18,910,017\n",
      "Trainable params: 4,195,329\n",
      "Non-trainable params: 14,714,688\n",
      "_________________________________________________________________\n"
     ]
    }
   ],
   "source": [
    "#cargamos el modelo\n",
    "from keras.models import load_model\n",
    "model=load_model(\"cats_and_dogs_classifier.h5\")\n",
    "model.summary()"
   ]
  },
  {
   "cell_type": "code",
   "execution_count": 42,
   "id": "affecting-stopping",
   "metadata": {},
   "outputs": [
    {
     "data": {
      "text/plain": [
       "<tf.Tensor 'vgg16_input_4:0' shape=(None, 150, 150, 3) dtype=float32>"
      ]
     },
     "execution_count": 42,
     "metadata": {},
     "output_type": "execute_result"
    }
   ],
   "source": [
    "model.input"
   ]
  },
  {
   "cell_type": "code",
   "execution_count": null,
   "id": "killing-burden",
   "metadata": {},
   "outputs": [],
   "source": []
  }
 ],
 "metadata": {
  "kernelspec": {
   "display_name": "Python 3",
   "language": "python",
   "name": "python3"
  },
  "language_info": {
   "codemirror_mode": {
    "name": "ipython",
    "version": 3
   },
   "file_extension": ".py",
   "mimetype": "text/x-python",
   "name": "python",
   "nbconvert_exporter": "python",
   "pygments_lexer": "ipython3",
   "version": "3.7.9"
  }
 },
 "nbformat": 4,
 "nbformat_minor": 5
}
